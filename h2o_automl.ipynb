{
 "metadata": {
  "language_info": {
   "codemirror_mode": {
    "name": "ipython",
    "version": 3
   },
   "file_extension": ".py",
   "mimetype": "text/x-python",
   "name": "python",
   "nbconvert_exporter": "python",
   "pygments_lexer": "ipython3",
   "version": "3.8.4-final"
  },
  "orig_nbformat": 2,
  "kernelspec": {
   "name": "Python 3.8.4 64-bit",
   "display_name": "Python 3.8.4 64-bit",
   "metadata": {
    "interpreter": {
     "hash": "34af683683d8ab5480901753080f029b7add262c186ae3a7453049ade9d374ff"
    }
   }
  }
 },
 "nbformat": 4,
 "nbformat_minor": 2,
 "cells": [
  {
   "cell_type": "code",
   "execution_count": 1,
   "metadata": {},
   "outputs": [
    {
     "output_type": "stream",
     "name": "stdout",
     "text": [
      "Checking whether there is an H2O instance running at http://localhost:54321 ..... not found.\n",
      "Attempting to start a local H2O server...\n",
      "; Java HotSpot(TM) 64-Bit Server VM (build 25.261-b12, mixed mode)\n",
      "  Starting server from E:\\Programs\\Python38\\Lib\\site-packages\\h2o\\backend\\bin\\h2o.jar\n",
      "  Ice root: C:\\Users\\SERGEY~1\\AppData\\Local\\Temp\\tmpg4eckcp3\n",
      "  JVM stdout: C:\\Users\\SERGEY~1\\AppData\\Local\\Temp\\tmpg4eckcp3\\h2o_Sergey_Kazulin_started_from_python.out\n",
      "  JVM stderr: C:\\Users\\SERGEY~1\\AppData\\Local\\Temp\\tmpg4eckcp3\\h2o_Sergey_Kazulin_started_from_python.err\n",
      "  Server is running at http://127.0.0.1:54321\n",
      "Connecting to H2O server at http://127.0.0.1:54321 ... successful.\n"
     ]
    },
    {
     "output_type": "display_data",
     "data": {
      "text/plain": "--------------------------  ---------------------------------------------------------\nH2O_cluster_uptime:         11 secs\nH2O_cluster_timezone:       +03:00\nH2O_data_parsing_timezone:  UTC\nH2O_cluster_version:        3.30.1.2\nH2O_cluster_version_age:    1 month and 16 days\nH2O_cluster_name:           H2O_from_python_Sergey_Kazulin_86cepj\nH2O_cluster_total_nodes:    1\nH2O_cluster_free_memory:    1.276 Gb\nH2O_cluster_total_cores:    4\nH2O_cluster_allowed_cores:  4\nH2O_cluster_status:         accepting new members, healthy\nH2O_connection_url:         http://127.0.0.1:54321\nH2O_connection_proxy:       {\"http\": null, \"https\": null}\nH2O_internal_security:      False\nH2O_API_Extensions:         Amazon S3, Algos, AutoML, Core V3, TargetEncoder, Core V4\nPython_version:             3.8.4 final\n--------------------------  ---------------------------------------------------------",
      "text/html": "<div style=\"overflow:auto\"><table style=\"width:50%\"><tr><td>H2O_cluster_uptime:</td>\n<td>11 secs</td></tr>\n<tr><td>H2O_cluster_timezone:</td>\n<td>+03:00</td></tr>\n<tr><td>H2O_data_parsing_timezone:</td>\n<td>UTC</td></tr>\n<tr><td>H2O_cluster_version:</td>\n<td>3.30.1.2</td></tr>\n<tr><td>H2O_cluster_version_age:</td>\n<td>1 month and 16 days </td></tr>\n<tr><td>H2O_cluster_name:</td>\n<td>H2O_from_python_Sergey_Kazulin_86cepj</td></tr>\n<tr><td>H2O_cluster_total_nodes:</td>\n<td>1</td></tr>\n<tr><td>H2O_cluster_free_memory:</td>\n<td>1.276 Gb</td></tr>\n<tr><td>H2O_cluster_total_cores:</td>\n<td>4</td></tr>\n<tr><td>H2O_cluster_allowed_cores:</td>\n<td>4</td></tr>\n<tr><td>H2O_cluster_status:</td>\n<td>accepting new members, healthy</td></tr>\n<tr><td>H2O_connection_url:</td>\n<td>http://127.0.0.1:54321</td></tr>\n<tr><td>H2O_connection_proxy:</td>\n<td>{\"http\": null, \"https\": null}</td></tr>\n<tr><td>H2O_internal_security:</td>\n<td>False</td></tr>\n<tr><td>H2O_API_Extensions:</td>\n<td>Amazon S3, Algos, AutoML, Core V3, TargetEncoder, Core V4</td></tr>\n<tr><td>Python_version:</td>\n<td>3.8.4 final</td></tr></table></div>"
     },
     "metadata": {}
    }
   ],
   "source": [
    "import h2o\n",
    "from h2o.automl import H2OAutoML\n",
    "h2o.init()"
   ]
  },
  {
   "cell_type": "code",
   "execution_count": 3,
   "metadata": {},
   "outputs": [],
   "source": [
    "import pandas as pd"
   ]
  },
  {
   "cell_type": "code",
   "execution_count": 4,
   "metadata": {},
   "outputs": [
    {
     "output_type": "execute_result",
     "data": {
      "text/plain": [
       "Index(['type', 'cap_shape', 'cap_surface', 'cap_color', 'bruises', 'odor',\n",
       "       'gill_attachment', 'gill_spacing', 'gill_size', 'gill_color',\n",
       "       'stalk_shape', 'stalk_root', 'stalk_surface_above_ring',\n",
       "       'stalk_surface_below_ring', 'stalk_color_above_ring',\n",
       "       'stalk_color_below_ring', 'veil_type', 'veil_color', 'ring_number',\n",
       "       'ring_type', 'spore_print_color', 'population', 'habitat'],\n",
       "      dtype='object')"
      ]
     },
     "metadata": {},
     "execution_count": 4
    }
   ],
   "source": [
    "#path = \"e:/programming/samples/mushrooms.csv\"\n",
    "\n",
    "df = pd.read_csv('e:/programming/samples/mushrooms.csv')\n",
    "df.columns"
   ]
  },
  {
   "cell_type": "code",
   "execution_count": 5,
   "metadata": {},
   "outputs": [
    {
     "output_type": "execute_result",
     "data": {
      "text/plain": [
       "        type cap_shape cap_surface cap_color bruises  odor gill_attachment  \\\n",
       "count   8124      8124        8124      8124    8124  8124            8124   \n",
       "unique     2         6           4        10       2     9               2   \n",
       "top        e         x           y         n       f     n               f   \n",
       "freq    4208      3656        3244      2284    4748  3528            7914   \n",
       "\n",
       "       gill_spacing gill_size gill_color  ... stalk_surface_below_ring  \\\n",
       "count          8124      8124       8124  ...                     8124   \n",
       "unique            2         2         12  ...                        4   \n",
       "top               c         b          b  ...                        s   \n",
       "freq           6812      5612       1728  ...                     4936   \n",
       "\n",
       "       stalk_color_above_ring stalk_color_below_ring veil_type veil_color  \\\n",
       "count                    8124                   8124      8124       8124   \n",
       "unique                      9                      9         1          4   \n",
       "top                         w                      w         p          w   \n",
       "freq                     4464                   4384      8124       7924   \n",
       "\n",
       "       ring_number ring_type spore_print_color population habitat  \n",
       "count         8124      8124              8124       8124    8124  \n",
       "unique           3         5                 9          6       7  \n",
       "top              o         p                 w          v       d  \n",
       "freq          7488      3968              2388       4040    3148  \n",
       "\n",
       "[4 rows x 23 columns]"
      ],
      "text/html": "<div>\n<style scoped>\n    .dataframe tbody tr th:only-of-type {\n        vertical-align: middle;\n    }\n\n    .dataframe tbody tr th {\n        vertical-align: top;\n    }\n\n    .dataframe thead th {\n        text-align: right;\n    }\n</style>\n<table border=\"1\" class=\"dataframe\">\n  <thead>\n    <tr style=\"text-align: right;\">\n      <th></th>\n      <th>type</th>\n      <th>cap_shape</th>\n      <th>cap_surface</th>\n      <th>cap_color</th>\n      <th>bruises</th>\n      <th>odor</th>\n      <th>gill_attachment</th>\n      <th>gill_spacing</th>\n      <th>gill_size</th>\n      <th>gill_color</th>\n      <th>...</th>\n      <th>stalk_surface_below_ring</th>\n      <th>stalk_color_above_ring</th>\n      <th>stalk_color_below_ring</th>\n      <th>veil_type</th>\n      <th>veil_color</th>\n      <th>ring_number</th>\n      <th>ring_type</th>\n      <th>spore_print_color</th>\n      <th>population</th>\n      <th>habitat</th>\n    </tr>\n  </thead>\n  <tbody>\n    <tr>\n      <th>count</th>\n      <td>8124</td>\n      <td>8124</td>\n      <td>8124</td>\n      <td>8124</td>\n      <td>8124</td>\n      <td>8124</td>\n      <td>8124</td>\n      <td>8124</td>\n      <td>8124</td>\n      <td>8124</td>\n      <td>...</td>\n      <td>8124</td>\n      <td>8124</td>\n      <td>8124</td>\n      <td>8124</td>\n      <td>8124</td>\n      <td>8124</td>\n      <td>8124</td>\n      <td>8124</td>\n      <td>8124</td>\n      <td>8124</td>\n    </tr>\n    <tr>\n      <th>unique</th>\n      <td>2</td>\n      <td>6</td>\n      <td>4</td>\n      <td>10</td>\n      <td>2</td>\n      <td>9</td>\n      <td>2</td>\n      <td>2</td>\n      <td>2</td>\n      <td>12</td>\n      <td>...</td>\n      <td>4</td>\n      <td>9</td>\n      <td>9</td>\n      <td>1</td>\n      <td>4</td>\n      <td>3</td>\n      <td>5</td>\n      <td>9</td>\n      <td>6</td>\n      <td>7</td>\n    </tr>\n    <tr>\n      <th>top</th>\n      <td>e</td>\n      <td>x</td>\n      <td>y</td>\n      <td>n</td>\n      <td>f</td>\n      <td>n</td>\n      <td>f</td>\n      <td>c</td>\n      <td>b</td>\n      <td>b</td>\n      <td>...</td>\n      <td>s</td>\n      <td>w</td>\n      <td>w</td>\n      <td>p</td>\n      <td>w</td>\n      <td>o</td>\n      <td>p</td>\n      <td>w</td>\n      <td>v</td>\n      <td>d</td>\n    </tr>\n    <tr>\n      <th>freq</th>\n      <td>4208</td>\n      <td>3656</td>\n      <td>3244</td>\n      <td>2284</td>\n      <td>4748</td>\n      <td>3528</td>\n      <td>7914</td>\n      <td>6812</td>\n      <td>5612</td>\n      <td>1728</td>\n      <td>...</td>\n      <td>4936</td>\n      <td>4464</td>\n      <td>4384</td>\n      <td>8124</td>\n      <td>7924</td>\n      <td>7488</td>\n      <td>3968</td>\n      <td>2388</td>\n      <td>4040</td>\n      <td>3148</td>\n    </tr>\n  </tbody>\n</table>\n<p>4 rows × 23 columns</p>\n</div>"
     },
     "metadata": {},
     "execution_count": 5
    }
   ],
   "source": [
    "df.describe()"
   ]
  },
  {
   "cell_type": "code",
   "execution_count": 6,
   "metadata": {},
   "outputs": [
    {
     "output_type": "execute_result",
     "data": {
      "text/plain": [
       "  type cap_shape cap_surface cap_color bruises odor gill_attachment  \\\n",
       "0    p         x           s         n       t    p               f   \n",
       "1    e         x           s         y       t    a               f   \n",
       "2    e         b           s         w       t    l               f   \n",
       "3    p         x           y         w       t    p               f   \n",
       "4    e         x           s         g       f    n               f   \n",
       "\n",
       "  gill_spacing gill_size gill_color  ... stalk_surface_below_ring  \\\n",
       "0            c         n          k  ...                        s   \n",
       "1            c         b          k  ...                        s   \n",
       "2            c         b          n  ...                        s   \n",
       "3            c         n          n  ...                        s   \n",
       "4            w         b          k  ...                        s   \n",
       "\n",
       "  stalk_color_above_ring stalk_color_below_ring veil_type veil_color  \\\n",
       "0                      w                      w         p          w   \n",
       "1                      w                      w         p          w   \n",
       "2                      w                      w         p          w   \n",
       "3                      w                      w         p          w   \n",
       "4                      w                      w         p          w   \n",
       "\n",
       "  ring_number ring_type spore_print_color population habitat  \n",
       "0           o         p                 k          s       u  \n",
       "1           o         p                 n          n       g  \n",
       "2           o         p                 n          n       m  \n",
       "3           o         p                 k          s       u  \n",
       "4           o         e                 n          a       g  \n",
       "\n",
       "[5 rows x 23 columns]"
      ],
      "text/html": "<div>\n<style scoped>\n    .dataframe tbody tr th:only-of-type {\n        vertical-align: middle;\n    }\n\n    .dataframe tbody tr th {\n        vertical-align: top;\n    }\n\n    .dataframe thead th {\n        text-align: right;\n    }\n</style>\n<table border=\"1\" class=\"dataframe\">\n  <thead>\n    <tr style=\"text-align: right;\">\n      <th></th>\n      <th>type</th>\n      <th>cap_shape</th>\n      <th>cap_surface</th>\n      <th>cap_color</th>\n      <th>bruises</th>\n      <th>odor</th>\n      <th>gill_attachment</th>\n      <th>gill_spacing</th>\n      <th>gill_size</th>\n      <th>gill_color</th>\n      <th>...</th>\n      <th>stalk_surface_below_ring</th>\n      <th>stalk_color_above_ring</th>\n      <th>stalk_color_below_ring</th>\n      <th>veil_type</th>\n      <th>veil_color</th>\n      <th>ring_number</th>\n      <th>ring_type</th>\n      <th>spore_print_color</th>\n      <th>population</th>\n      <th>habitat</th>\n    </tr>\n  </thead>\n  <tbody>\n    <tr>\n      <th>0</th>\n      <td>p</td>\n      <td>x</td>\n      <td>s</td>\n      <td>n</td>\n      <td>t</td>\n      <td>p</td>\n      <td>f</td>\n      <td>c</td>\n      <td>n</td>\n      <td>k</td>\n      <td>...</td>\n      <td>s</td>\n      <td>w</td>\n      <td>w</td>\n      <td>p</td>\n      <td>w</td>\n      <td>o</td>\n      <td>p</td>\n      <td>k</td>\n      <td>s</td>\n      <td>u</td>\n    </tr>\n    <tr>\n      <th>1</th>\n      <td>e</td>\n      <td>x</td>\n      <td>s</td>\n      <td>y</td>\n      <td>t</td>\n      <td>a</td>\n      <td>f</td>\n      <td>c</td>\n      <td>b</td>\n      <td>k</td>\n      <td>...</td>\n      <td>s</td>\n      <td>w</td>\n      <td>w</td>\n      <td>p</td>\n      <td>w</td>\n      <td>o</td>\n      <td>p</td>\n      <td>n</td>\n      <td>n</td>\n      <td>g</td>\n    </tr>\n    <tr>\n      <th>2</th>\n      <td>e</td>\n      <td>b</td>\n      <td>s</td>\n      <td>w</td>\n      <td>t</td>\n      <td>l</td>\n      <td>f</td>\n      <td>c</td>\n      <td>b</td>\n      <td>n</td>\n      <td>...</td>\n      <td>s</td>\n      <td>w</td>\n      <td>w</td>\n      <td>p</td>\n      <td>w</td>\n      <td>o</td>\n      <td>p</td>\n      <td>n</td>\n      <td>n</td>\n      <td>m</td>\n    </tr>\n    <tr>\n      <th>3</th>\n      <td>p</td>\n      <td>x</td>\n      <td>y</td>\n      <td>w</td>\n      <td>t</td>\n      <td>p</td>\n      <td>f</td>\n      <td>c</td>\n      <td>n</td>\n      <td>n</td>\n      <td>...</td>\n      <td>s</td>\n      <td>w</td>\n      <td>w</td>\n      <td>p</td>\n      <td>w</td>\n      <td>o</td>\n      <td>p</td>\n      <td>k</td>\n      <td>s</td>\n      <td>u</td>\n    </tr>\n    <tr>\n      <th>4</th>\n      <td>e</td>\n      <td>x</td>\n      <td>s</td>\n      <td>g</td>\n      <td>f</td>\n      <td>n</td>\n      <td>f</td>\n      <td>w</td>\n      <td>b</td>\n      <td>k</td>\n      <td>...</td>\n      <td>s</td>\n      <td>w</td>\n      <td>w</td>\n      <td>p</td>\n      <td>w</td>\n      <td>o</td>\n      <td>e</td>\n      <td>n</td>\n      <td>a</td>\n      <td>g</td>\n    </tr>\n  </tbody>\n</table>\n<p>5 rows × 23 columns</p>\n</div>"
     },
     "metadata": {},
     "execution_count": 6
    }
   ],
   "source": [
    "df.head()"
   ]
  },
  {
   "cell_type": "code",
   "execution_count": 7,
   "metadata": {},
   "outputs": [],
   "source": [
    "from sklearn import preprocessing\n",
    "from sklearn.preprocessing import LabelEncoder"
   ]
  },
  {
   "cell_type": "code",
   "execution_count": 8,
   "metadata": {},
   "outputs": [
    {
     "output_type": "stream",
     "name": "stdout",
     "text": [
      "Parse progress: |█████████████████████████████████████████████████████████| 100%\n"
     ]
    }
   ],
   "source": [
    "labelEncoder = preprocessing.LabelEncoder()\n",
    "for col in df.columns:\n",
    "    df[col] = labelEncoder.fit_transform(df[col])\n",
    "df = h2o.H2OFrame(df)\n",
    "df = df.asfactor()"
   ]
  },
  {
   "cell_type": "code",
   "execution_count": 9,
   "metadata": {},
   "outputs": [],
   "source": [
    "train, test, valid = df.split_frame(ratios=[.7, .15])"
   ]
  },
  {
   "cell_type": "code",
   "execution_count": 10,
   "metadata": {},
   "outputs": [
    {
     "output_type": "stream",
     "name": "stdout",
     "text": [
      "AutoML progress: |\n",
      "10:39:34.551: AutoML: XGBoost is not available; skipping it.\n",
      "\n",
      "████████████████████████████████████████████████████████| 100%\n"
     ]
    }
   ],
   "source": [
    "y = \"type\"\n",
    "x_train = train.columns\n",
    "x_train.remove(y)\n",
    "aml = H2OAutoML(max_runtime_secs=600, seed = 1)\n",
    "aml.train(x = x_train, y = y, training_frame = train)"
   ]
  },
  {
   "cell_type": "code",
   "execution_count": 11,
   "metadata": {},
   "outputs": [
    {
     "output_type": "display_data",
     "data": {
      "text/html": "<table>\n<thead>\n<tr><th>model_id                                           </th><th style=\"text-align: right;\">     auc</th><th style=\"text-align: right;\">    logloss</th><th style=\"text-align: right;\">   aucpr</th><th style=\"text-align: right;\">  mean_per_class_error</th><th style=\"text-align: right;\">       rmse</th><th style=\"text-align: right;\">        mse</th></tr>\n</thead>\n<tbody>\n<tr><td>GBM_3_AutoML_20201020_103934                       </td><td style=\"text-align: right;\">1       </td><td style=\"text-align: right;\">6.30316e-05</td><td style=\"text-align: right;\">1       </td><td style=\"text-align: right;\">           0          </td><td style=\"text-align: right;\">0.00375856 </td><td style=\"text-align: right;\">1.41268e-05</td></tr>\n<tr><td>GBM_4_AutoML_20201020_103934                       </td><td style=\"text-align: right;\">1       </td><td style=\"text-align: right;\">4.64642e-05</td><td style=\"text-align: right;\">1       </td><td style=\"text-align: right;\">           0          </td><td style=\"text-align: right;\">0.00271565 </td><td style=\"text-align: right;\">7.37473e-06</td></tr>\n<tr><td>GBM_grid__1_AutoML_20201020_103934_model_4         </td><td style=\"text-align: right;\">1       </td><td style=\"text-align: right;\">0.00153409 </td><td style=\"text-align: right;\">1       </td><td style=\"text-align: right;\">           0          </td><td style=\"text-align: right;\">0.0109536  </td><td style=\"text-align: right;\">0.000119981</td></tr>\n<tr><td>GLM_1_AutoML_20201020_103934                       </td><td style=\"text-align: right;\">1       </td><td style=\"text-align: right;\">0.0020885  </td><td style=\"text-align: right;\">1       </td><td style=\"text-align: right;\">           0          </td><td style=\"text-align: right;\">0.00943371 </td><td style=\"text-align: right;\">8.89948e-05</td></tr>\n<tr><td>StackedEnsemble_BestOfFamily_AutoML_20201020_103934</td><td style=\"text-align: right;\">1       </td><td style=\"text-align: right;\">0.00242389 </td><td style=\"text-align: right;\">1       </td><td style=\"text-align: right;\">           0          </td><td style=\"text-align: right;\">0.00262413 </td><td style=\"text-align: right;\">6.88604e-06</td></tr>\n<tr><td>DRF_1_AutoML_20201020_103934                       </td><td style=\"text-align: right;\">1       </td><td style=\"text-align: right;\">0.00146099 </td><td style=\"text-align: right;\">1       </td><td style=\"text-align: right;\">           0          </td><td style=\"text-align: right;\">0.00980064 </td><td style=\"text-align: right;\">9.60525e-05</td></tr>\n<tr><td>StackedEnsemble_AllModels_AutoML_20201020_103934   </td><td style=\"text-align: right;\">1       </td><td style=\"text-align: right;\">0.00117092 </td><td style=\"text-align: right;\">1       </td><td style=\"text-align: right;\">           0          </td><td style=\"text-align: right;\">0.00344018 </td><td style=\"text-align: right;\">1.18348e-05</td></tr>\n<tr><td>GBM_grid__1_AutoML_20201020_103934_model_3         </td><td style=\"text-align: right;\">1       </td><td style=\"text-align: right;\">1.5814e-05 </td><td style=\"text-align: right;\">1       </td><td style=\"text-align: right;\">           0          </td><td style=\"text-align: right;\">0.00113196 </td><td style=\"text-align: right;\">1.28132e-06</td></tr>\n<tr><td>GBM_grid__1_AutoML_20201020_103934_model_1         </td><td style=\"text-align: right;\">1       </td><td style=\"text-align: right;\">0.00013158 </td><td style=\"text-align: right;\">1       </td><td style=\"text-align: right;\">           0          </td><td style=\"text-align: right;\">0.00680994 </td><td style=\"text-align: right;\">4.63752e-05</td></tr>\n<tr><td>GBM_5_AutoML_20201020_103934                       </td><td style=\"text-align: right;\">1       </td><td style=\"text-align: right;\">0.000175535</td><td style=\"text-align: right;\">1       </td><td style=\"text-align: right;\">           0          </td><td style=\"text-align: right;\">0.00397202 </td><td style=\"text-align: right;\">1.57769e-05</td></tr>\n<tr><td>GBM_1_AutoML_20201020_103934                       </td><td style=\"text-align: right;\">1       </td><td style=\"text-align: right;\">0.000868025</td><td style=\"text-align: right;\">1       </td><td style=\"text-align: right;\">           0          </td><td style=\"text-align: right;\">0.013139   </td><td style=\"text-align: right;\">0.000172634</td></tr>\n<tr><td>GBM_grid__1_AutoML_20201020_103934_model_5         </td><td style=\"text-align: right;\">1       </td><td style=\"text-align: right;\">0.153835   </td><td style=\"text-align: right;\">1       </td><td style=\"text-align: right;\">           0          </td><td style=\"text-align: right;\">0.152538   </td><td style=\"text-align: right;\">0.0232679  </td></tr>\n<tr><td>GBM_2_AutoML_20201020_103934                       </td><td style=\"text-align: right;\">1       </td><td style=\"text-align: right;\">0.000151367</td><td style=\"text-align: right;\">1       </td><td style=\"text-align: right;\">           0          </td><td style=\"text-align: right;\">0.00752071 </td><td style=\"text-align: right;\">5.65611e-05</td></tr>\n<tr><td>GBM_grid__1_AutoML_20201020_103934_model_2         </td><td style=\"text-align: right;\">1       </td><td style=\"text-align: right;\">1.13113e-05</td><td style=\"text-align: right;\">1       </td><td style=\"text-align: right;\">           0          </td><td style=\"text-align: right;\">0.000822304</td><td style=\"text-align: right;\">6.76185e-07</td></tr>\n<tr><td>DeepLearning_grid__1_AutoML_20201020_103934_model_1</td><td style=\"text-align: right;\">1       </td><td style=\"text-align: right;\">0.000573926</td><td style=\"text-align: right;\">1       </td><td style=\"text-align: right;\">           0.000170648</td><td style=\"text-align: right;\">0.0124821  </td><td style=\"text-align: right;\">0.000155804</td></tr>\n<tr><td>DeepLearning_1_AutoML_20201020_103934              </td><td style=\"text-align: right;\">0.999998</td><td style=\"text-align: right;\">0.00214427 </td><td style=\"text-align: right;\">0.999998</td><td style=\"text-align: right;\">           0.000526414</td><td style=\"text-align: right;\">0.0237611  </td><td style=\"text-align: right;\">0.000564592</td></tr>\n<tr><td>DeepLearning_grid__2_AutoML_20201020_103934_model_2</td><td style=\"text-align: right;\">0.999969</td><td style=\"text-align: right;\">0.0324319  </td><td style=\"text-align: right;\">0.999967</td><td style=\"text-align: right;\">           0.00157924 </td><td style=\"text-align: right;\">0.075436   </td><td style=\"text-align: right;\">0.00569059 </td></tr>\n<tr><td>XRT_1_AutoML_20201020_103934                       </td><td style=\"text-align: right;\">0.999896</td><td style=\"text-align: right;\">0.252016   </td><td style=\"text-align: right;\">0.999888</td><td style=\"text-align: right;\">           0.00599013 </td><td style=\"text-align: right;\">0.24093    </td><td style=\"text-align: right;\">0.0580474  </td></tr>\n<tr><td>DeepLearning_grid__3_AutoML_20201020_103934_model_1</td><td style=\"text-align: right;\">0.999626</td><td style=\"text-align: right;\">0.0647282  </td><td style=\"text-align: right;\">0.999644</td><td style=\"text-align: right;\">           0.00412747 </td><td style=\"text-align: right;\">0.0929537  </td><td style=\"text-align: right;\">0.00864038 </td></tr>\n<tr><td>DeepLearning_grid__1_AutoML_20201020_103934_model_3</td><td style=\"text-align: right;\">0.99781 </td><td style=\"text-align: right;\">0.147407   </td><td style=\"text-align: right;\">0.997822</td><td style=\"text-align: right;\">           0.0206663  </td><td style=\"text-align: right;\">0.161994   </td><td style=\"text-align: right;\">0.0262421  </td></tr>\n<tr><td>DeepLearning_grid__2_AutoML_20201020_103934_model_1</td><td style=\"text-align: right;\">0.995863</td><td style=\"text-align: right;\">0.149296   </td><td style=\"text-align: right;\">0.996837</td><td style=\"text-align: right;\">           0.0166835  </td><td style=\"text-align: right;\">0.138699   </td><td style=\"text-align: right;\">0.0192373  </td></tr>\n<tr><td>DeepLearning_grid__1_AutoML_20201020_103934_model_2</td><td style=\"text-align: right;\">0.994182</td><td style=\"text-align: right;\">0.23791    </td><td style=\"text-align: right;\">0.995733</td><td style=\"text-align: right;\">           0.0217046  </td><td style=\"text-align: right;\">0.176982   </td><td style=\"text-align: right;\">0.0313225  </td></tr>\n<tr><td>DeepLearning_grid__3_AutoML_20201020_103934_model_2</td><td style=\"text-align: right;\">0.981221</td><td style=\"text-align: right;\">0.53761    </td><td style=\"text-align: right;\">0.987534</td><td style=\"text-align: right;\">           0.0236022  </td><td style=\"text-align: right;\">0.239688   </td><td style=\"text-align: right;\">0.0574502  </td></tr>\n</tbody>\n</table>"
     },
     "metadata": {}
    },
    {
     "output_type": "execute_result",
     "data": {
      "text/plain": []
     },
     "metadata": {},
     "execution_count": 11
    }
   ],
   "source": [
    "lb = aml.leaderboard\n",
    "lb.head(50)"
   ]
  },
  {
   "cell_type": "code",
   "execution_count": 13,
   "metadata": {},
   "outputs": [
    {
     "output_type": "stream",
     "name": "stdout",
     "text": [
      "gbm prediction progress: |████████████████████████████████████████████████| 100%\n"
     ]
    }
   ],
   "source": [
    "prediction = aml.predict(test)"
   ]
  },
  {
   "cell_type": "code",
   "execution_count": 14,
   "metadata": {},
   "outputs": [
    {
     "output_type": "display_data",
     "data": {
      "text/html": "<table>\n<thead>\n<tr><th style=\"text-align: right;\">  predict</th><th style=\"text-align: right;\">         p0</th><th style=\"text-align: right;\">         p1</th></tr>\n</thead>\n<tbody>\n<tr><td style=\"text-align: right;\">        1</td><td style=\"text-align: right;\">5.45315e-08</td><td style=\"text-align: right;\">1          </td></tr>\n<tr><td style=\"text-align: right;\">        0</td><td style=\"text-align: right;\">1          </td><td style=\"text-align: right;\">4.63755e-08</td></tr>\n<tr><td style=\"text-align: right;\">        0</td><td style=\"text-align: right;\">1          </td><td style=\"text-align: right;\">4.66017e-08</td></tr>\n<tr><td style=\"text-align: right;\">        0</td><td style=\"text-align: right;\">1          </td><td style=\"text-align: right;\">4.84948e-08</td></tr>\n<tr><td style=\"text-align: right;\">        1</td><td style=\"text-align: right;\">6.37988e-08</td><td style=\"text-align: right;\">1          </td></tr>\n<tr><td style=\"text-align: right;\">        0</td><td style=\"text-align: right;\">1          </td><td style=\"text-align: right;\">4.66029e-08</td></tr>\n<tr><td style=\"text-align: right;\">        0</td><td style=\"text-align: right;\">1          </td><td style=\"text-align: right;\">4.65005e-08</td></tr>\n<tr><td style=\"text-align: right;\">        0</td><td style=\"text-align: right;\">1          </td><td style=\"text-align: right;\">5.63005e-08</td></tr>\n<tr><td style=\"text-align: right;\">        0</td><td style=\"text-align: right;\">1          </td><td style=\"text-align: right;\">4.66014e-08</td></tr>\n<tr><td style=\"text-align: right;\">        0</td><td style=\"text-align: right;\">1          </td><td style=\"text-align: right;\">5.17959e-08</td></tr>\n</tbody>\n</table>"
     },
     "metadata": {}
    },
    {
     "output_type": "execute_result",
     "data": {
      "text/plain": []
     },
     "metadata": {},
     "execution_count": 14
    }
   ],
   "source": [
    "prediction"
   ]
  }
 ]
}