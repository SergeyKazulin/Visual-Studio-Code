{
 "metadata": {
  "language_info": {
   "codemirror_mode": {
    "name": "ipython",
    "version": 3
   },
   "file_extension": ".py",
   "mimetype": "text/x-python",
   "name": "python",
   "nbconvert_exporter": "python",
   "pygments_lexer": "ipython3",
   "version": "3.8.6-final"
  },
  "orig_nbformat": 2,
  "kernelspec": {
   "name": "python3",
   "display_name": "Python 3",
   "language": "python"
  }
 },
 "nbformat": 4,
 "nbformat_minor": 2,
 "cells": [
  {
   "cell_type": "code",
   "execution_count": 1,
   "metadata": {},
   "outputs": [],
   "source": [
    "import pandas as pd\n",
    "import numpy as np\n",
    "import matplotlib.pyplot as plt\n",
    "import xlrd\n",
    "import xlsxwriter"
   ]
  },
  {
   "cell_type": "code",
   "execution_count": 2,
   "metadata": {},
   "outputs": [],
   "source": [
    "weather = pd.read_excel('weather_vitebsk.xls', skiprows=6)   # пропускаем первых 6 строк"
   ]
  },
  {
   "cell_type": "code",
   "execution_count": 3,
   "metadata": {},
   "outputs": [
    {
     "output_type": "execute_result",
     "data": {
      "text/plain": [
       "  Местное время в Витебске (аэропорт)    T     Po      P   Pa   U  \\\n",
       "0                    29.12.2020 06:00 -1.1  743.2  759.8 -0.9  94   \n",
       "1                    29.12.2020 03:00 -1.0  744.1  760.6 -0.8  91   \n",
       "2                    29.12.2020 00:00 -1.3  744.9  761.5 -0.7  88   \n",
       "3                    28.12.2020 21:00 -1.8  745.6  762.2 -1.3  73   \n",
       "4                    28.12.2020 18:00 -1.8  746.9  763.6 -0.8  73   \n",
       "\n",
       "                                DD  Ff  ff10   ff3  ...  \\\n",
       "0              Ветер, дующий с юга   2   NaN   NaN  ...   \n",
       "1  Ветер, дующий с юго-юго-востока   3   NaN  12.0  ...   \n",
       "2              Ветер, дующий с юга   3   NaN  12.0  ...   \n",
       "3      Ветер, дующий с юго-востока   5  12.0  13.0  ...   \n",
       "4      Ветер, дующий с юго-востока   3   NaN  10.0  ...   \n",
       "\n",
       "                                                  Cm   Ch  VV   Td  \\\n",
       "0  Высокослоистые непросвечивающие или слоисто-до...  NaN   7 -1.9   \n",
       "1  Высокослоистые непросвечивающие или слоисто-до...  NaN   9 -2.3   \n",
       "2                                                NaN  NaN   8 -3.0   \n",
       "3  Высокослоистые непросвечивающие или слоисто-до...  NaN  28 -6.0   \n",
       "4                                                NaN  NaN  30 -6.0   \n",
       "\n",
       "             RRR    tR   E  Tg   E'  sss  \n",
       "0            NaN   NaN NaN NaN  NaN  NaN  \n",
       "1            NaN   NaN NaN NaN  NaN  NaN  \n",
       "2            NaN   NaN NaN NaN  NaN  NaN  \n",
       "3  Следы осадков  12.0 NaN NaN  NaN  NaN  \n",
       "4            NaN   NaN NaN NaN  NaN  NaN  \n",
       "\n",
       "[5 rows x 29 columns]"
      ],
      "text/html": "<div>\n<style scoped>\n    .dataframe tbody tr th:only-of-type {\n        vertical-align: middle;\n    }\n\n    .dataframe tbody tr th {\n        vertical-align: top;\n    }\n\n    .dataframe thead th {\n        text-align: right;\n    }\n</style>\n<table border=\"1\" class=\"dataframe\">\n  <thead>\n    <tr style=\"text-align: right;\">\n      <th></th>\n      <th>Местное время в Витебске (аэропорт)</th>\n      <th>T</th>\n      <th>Po</th>\n      <th>P</th>\n      <th>Pa</th>\n      <th>U</th>\n      <th>DD</th>\n      <th>Ff</th>\n      <th>ff10</th>\n      <th>ff3</th>\n      <th>...</th>\n      <th>Cm</th>\n      <th>Ch</th>\n      <th>VV</th>\n      <th>Td</th>\n      <th>RRR</th>\n      <th>tR</th>\n      <th>E</th>\n      <th>Tg</th>\n      <th>E'</th>\n      <th>sss</th>\n    </tr>\n  </thead>\n  <tbody>\n    <tr>\n      <th>0</th>\n      <td>29.12.2020 06:00</td>\n      <td>-1.1</td>\n      <td>743.2</td>\n      <td>759.8</td>\n      <td>-0.9</td>\n      <td>94</td>\n      <td>Ветер, дующий с юга</td>\n      <td>2</td>\n      <td>NaN</td>\n      <td>NaN</td>\n      <td>...</td>\n      <td>Высокослоистые непросвечивающие или слоисто-до...</td>\n      <td>NaN</td>\n      <td>7</td>\n      <td>-1.9</td>\n      <td>NaN</td>\n      <td>NaN</td>\n      <td>NaN</td>\n      <td>NaN</td>\n      <td>NaN</td>\n      <td>NaN</td>\n    </tr>\n    <tr>\n      <th>1</th>\n      <td>29.12.2020 03:00</td>\n      <td>-1.0</td>\n      <td>744.1</td>\n      <td>760.6</td>\n      <td>-0.8</td>\n      <td>91</td>\n      <td>Ветер, дующий с юго-юго-востока</td>\n      <td>3</td>\n      <td>NaN</td>\n      <td>12.0</td>\n      <td>...</td>\n      <td>Высокослоистые непросвечивающие или слоисто-до...</td>\n      <td>NaN</td>\n      <td>9</td>\n      <td>-2.3</td>\n      <td>NaN</td>\n      <td>NaN</td>\n      <td>NaN</td>\n      <td>NaN</td>\n      <td>NaN</td>\n      <td>NaN</td>\n    </tr>\n    <tr>\n      <th>2</th>\n      <td>29.12.2020 00:00</td>\n      <td>-1.3</td>\n      <td>744.9</td>\n      <td>761.5</td>\n      <td>-0.7</td>\n      <td>88</td>\n      <td>Ветер, дующий с юга</td>\n      <td>3</td>\n      <td>NaN</td>\n      <td>12.0</td>\n      <td>...</td>\n      <td>NaN</td>\n      <td>NaN</td>\n      <td>8</td>\n      <td>-3.0</td>\n      <td>NaN</td>\n      <td>NaN</td>\n      <td>NaN</td>\n      <td>NaN</td>\n      <td>NaN</td>\n      <td>NaN</td>\n    </tr>\n    <tr>\n      <th>3</th>\n      <td>28.12.2020 21:00</td>\n      <td>-1.8</td>\n      <td>745.6</td>\n      <td>762.2</td>\n      <td>-1.3</td>\n      <td>73</td>\n      <td>Ветер, дующий с юго-востока</td>\n      <td>5</td>\n      <td>12.0</td>\n      <td>13.0</td>\n      <td>...</td>\n      <td>Высокослоистые непросвечивающие или слоисто-до...</td>\n      <td>NaN</td>\n      <td>28</td>\n      <td>-6.0</td>\n      <td>Следы осадков</td>\n      <td>12.0</td>\n      <td>NaN</td>\n      <td>NaN</td>\n      <td>NaN</td>\n      <td>NaN</td>\n    </tr>\n    <tr>\n      <th>4</th>\n      <td>28.12.2020 18:00</td>\n      <td>-1.8</td>\n      <td>746.9</td>\n      <td>763.6</td>\n      <td>-0.8</td>\n      <td>73</td>\n      <td>Ветер, дующий с юго-востока</td>\n      <td>3</td>\n      <td>NaN</td>\n      <td>10.0</td>\n      <td>...</td>\n      <td>NaN</td>\n      <td>NaN</td>\n      <td>30</td>\n      <td>-6.0</td>\n      <td>NaN</td>\n      <td>NaN</td>\n      <td>NaN</td>\n      <td>NaN</td>\n      <td>NaN</td>\n      <td>NaN</td>\n    </tr>\n  </tbody>\n</table>\n<p>5 rows × 29 columns</p>\n</div>"
     },
     "metadata": {},
     "execution_count": 3
    }
   ],
   "source": [
    "weather.head()"
   ]
  },
  {
   "cell_type": "code",
   "execution_count": 4,
   "metadata": {},
   "outputs": [
    {
     "output_type": "execute_result",
     "data": {
      "text/plain": [
       "                  T            Po             P            Pa             U  \\\n",
       "count  17511.000000  17431.000000  17431.000000  17262.000000  17511.000000   \n",
       "mean       7.720513    745.644880    761.650668      0.001570     77.222089   \n",
       "std        9.499756      7.150977      7.374099      0.869953     18.237671   \n",
       "min      -29.700000    715.900000    731.400000     -5.900000     18.000000   \n",
       "25%        0.500000    741.100000    757.000000     -0.500000     65.000000   \n",
       "50%        7.100000    745.700000    761.500000      0.000000     83.000000   \n",
       "75%       15.300000    750.200000    766.300000      0.500000     92.000000   \n",
       "max       34.100000    771.400000    788.500000      4.500000    100.000000   \n",
       "\n",
       "                 Ff        ff10          ff3           Tn           Tx  \\\n",
       "count  17511.000000  959.000000  3484.000000  1778.000000  2100.000000   \n",
       "mean       2.003997   10.716371    11.647819     5.086333    11.979524   \n",
       "std        1.406961    1.138092     1.898280     7.991487    10.571707   \n",
       "min        0.000000   10.000000    10.000000   -30.100000   -23.100000   \n",
       "25%        1.000000   10.000000    10.000000    -0.500000     2.800000   \n",
       "50%        2.000000   10.000000    11.000000     5.500000    11.900000   \n",
       "75%        3.000000   11.000000    13.000000    11.400000    21.125000   \n",
       "max        8.000000   17.000000    27.000000    23.400000    34.500000   \n",
       "\n",
       "                 Td      tR    E   Tg  \n",
       "count  17511.000000  2251.0  0.0  0.0  \n",
       "mean       3.380081    12.0  NaN  NaN  \n",
       "std        8.190705     0.0  NaN  NaN  \n",
       "min      -32.800000    12.0  NaN  NaN  \n",
       "25%       -2.100000    12.0  NaN  NaN  \n",
       "50%        2.900000    12.0  NaN  NaN  \n",
       "75%       10.200000    12.0  NaN  NaN  \n",
       "max       21.900000    12.0  NaN  NaN  "
      ],
      "text/html": "<div>\n<style scoped>\n    .dataframe tbody tr th:only-of-type {\n        vertical-align: middle;\n    }\n\n    .dataframe tbody tr th {\n        vertical-align: top;\n    }\n\n    .dataframe thead th {\n        text-align: right;\n    }\n</style>\n<table border=\"1\" class=\"dataframe\">\n  <thead>\n    <tr style=\"text-align: right;\">\n      <th></th>\n      <th>T</th>\n      <th>Po</th>\n      <th>P</th>\n      <th>Pa</th>\n      <th>U</th>\n      <th>Ff</th>\n      <th>ff10</th>\n      <th>ff3</th>\n      <th>Tn</th>\n      <th>Tx</th>\n      <th>Td</th>\n      <th>tR</th>\n      <th>E</th>\n      <th>Tg</th>\n    </tr>\n  </thead>\n  <tbody>\n    <tr>\n      <th>count</th>\n      <td>17511.000000</td>\n      <td>17431.000000</td>\n      <td>17431.000000</td>\n      <td>17262.000000</td>\n      <td>17511.000000</td>\n      <td>17511.000000</td>\n      <td>959.000000</td>\n      <td>3484.000000</td>\n      <td>1778.000000</td>\n      <td>2100.000000</td>\n      <td>17511.000000</td>\n      <td>2251.0</td>\n      <td>0.0</td>\n      <td>0.0</td>\n    </tr>\n    <tr>\n      <th>mean</th>\n      <td>7.720513</td>\n      <td>745.644880</td>\n      <td>761.650668</td>\n      <td>0.001570</td>\n      <td>77.222089</td>\n      <td>2.003997</td>\n      <td>10.716371</td>\n      <td>11.647819</td>\n      <td>5.086333</td>\n      <td>11.979524</td>\n      <td>3.380081</td>\n      <td>12.0</td>\n      <td>NaN</td>\n      <td>NaN</td>\n    </tr>\n    <tr>\n      <th>std</th>\n      <td>9.499756</td>\n      <td>7.150977</td>\n      <td>7.374099</td>\n      <td>0.869953</td>\n      <td>18.237671</td>\n      <td>1.406961</td>\n      <td>1.138092</td>\n      <td>1.898280</td>\n      <td>7.991487</td>\n      <td>10.571707</td>\n      <td>8.190705</td>\n      <td>0.0</td>\n      <td>NaN</td>\n      <td>NaN</td>\n    </tr>\n    <tr>\n      <th>min</th>\n      <td>-29.700000</td>\n      <td>715.900000</td>\n      <td>731.400000</td>\n      <td>-5.900000</td>\n      <td>18.000000</td>\n      <td>0.000000</td>\n      <td>10.000000</td>\n      <td>10.000000</td>\n      <td>-30.100000</td>\n      <td>-23.100000</td>\n      <td>-32.800000</td>\n      <td>12.0</td>\n      <td>NaN</td>\n      <td>NaN</td>\n    </tr>\n    <tr>\n      <th>25%</th>\n      <td>0.500000</td>\n      <td>741.100000</td>\n      <td>757.000000</td>\n      <td>-0.500000</td>\n      <td>65.000000</td>\n      <td>1.000000</td>\n      <td>10.000000</td>\n      <td>10.000000</td>\n      <td>-0.500000</td>\n      <td>2.800000</td>\n      <td>-2.100000</td>\n      <td>12.0</td>\n      <td>NaN</td>\n      <td>NaN</td>\n    </tr>\n    <tr>\n      <th>50%</th>\n      <td>7.100000</td>\n      <td>745.700000</td>\n      <td>761.500000</td>\n      <td>0.000000</td>\n      <td>83.000000</td>\n      <td>2.000000</td>\n      <td>10.000000</td>\n      <td>11.000000</td>\n      <td>5.500000</td>\n      <td>11.900000</td>\n      <td>2.900000</td>\n      <td>12.0</td>\n      <td>NaN</td>\n      <td>NaN</td>\n    </tr>\n    <tr>\n      <th>75%</th>\n      <td>15.300000</td>\n      <td>750.200000</td>\n      <td>766.300000</td>\n      <td>0.500000</td>\n      <td>92.000000</td>\n      <td>3.000000</td>\n      <td>11.000000</td>\n      <td>13.000000</td>\n      <td>11.400000</td>\n      <td>21.125000</td>\n      <td>10.200000</td>\n      <td>12.0</td>\n      <td>NaN</td>\n      <td>NaN</td>\n    </tr>\n    <tr>\n      <th>max</th>\n      <td>34.100000</td>\n      <td>771.400000</td>\n      <td>788.500000</td>\n      <td>4.500000</td>\n      <td>100.000000</td>\n      <td>8.000000</td>\n      <td>17.000000</td>\n      <td>27.000000</td>\n      <td>23.400000</td>\n      <td>34.500000</td>\n      <td>21.900000</td>\n      <td>12.0</td>\n      <td>NaN</td>\n      <td>NaN</td>\n    </tr>\n  </tbody>\n</table>\n</div>"
     },
     "metadata": {},
     "execution_count": 4
    }
   ],
   "source": [
    "weather.describe()"
   ]
  },
  {
   "cell_type": "code",
   "execution_count": 5,
   "metadata": {},
   "outputs": [
    {
     "output_type": "execute_result",
     "data": {
      "text/plain": [
       "(17511, 29)"
      ]
     },
     "metadata": {},
     "execution_count": 5
    }
   ],
   "source": [
    "weather.shape"
   ]
  },
  {
   "cell_type": "code",
   "execution_count": 6,
   "metadata": {},
   "outputs": [
    {
     "output_type": "stream",
     "name": "stdout",
     "text": [
      "Максимальная температура:  34.1\nМинимальная температура:  -29.7\n"
     ]
    }
   ],
   "source": [
    "print('Максимальная температура: ', weather['T'].max())\n",
    "print('Минимальная температура: ', weather['T'].min())"
   ]
  },
  {
   "cell_type": "code",
   "execution_count": 7,
   "metadata": {},
   "outputs": [],
   "source": [
    "weather['date'] = pd.to_datetime(weather['Местное время в Витебске (аэропорт)'], dayfirst=True)   # в привычный формат день в начале"
   ]
  },
  {
   "cell_type": "code",
   "execution_count": 8,
   "metadata": {},
   "outputs": [],
   "source": [
    "weather['day'] = weather['date'].dt.day\n",
    "weather['month'] = weather['date'].dt.month\n",
    "weather['year'] = weather['date'].dt.year   # колонки с другимформатом времени "
   ]
  },
  {
   "cell_type": "code",
   "execution_count": 9,
   "metadata": {},
   "outputs": [
    {
     "output_type": "execute_result",
     "data": {
      "text/plain": [
       "  Местное время в Витебске (аэропорт)    T     Po      P   Pa   U  \\\n",
       "0                    29.12.2020 06:00 -1.1  743.2  759.8 -0.9  94   \n",
       "1                    29.12.2020 03:00 -1.0  744.1  760.6 -0.8  91   \n",
       "2                    29.12.2020 00:00 -1.3  744.9  761.5 -0.7  88   \n",
       "3                    28.12.2020 21:00 -1.8  745.6  762.2 -1.3  73   \n",
       "4                    28.12.2020 18:00 -1.8  746.9  763.6 -0.8  73   \n",
       "\n",
       "                                DD  Ff  ff10   ff3  ...            RRR    tR  \\\n",
       "0              Ветер, дующий с юга   2   NaN   NaN  ...            NaN   NaN   \n",
       "1  Ветер, дующий с юго-юго-востока   3   NaN  12.0  ...            NaN   NaN   \n",
       "2              Ветер, дующий с юга   3   NaN  12.0  ...            NaN   NaN   \n",
       "3      Ветер, дующий с юго-востока   5  12.0  13.0  ...  Следы осадков  12.0   \n",
       "4      Ветер, дующий с юго-востока   3   NaN  10.0  ...            NaN   NaN   \n",
       "\n",
       "    E  Tg   E'  sss                date day month  year  \n",
       "0 NaN NaN  NaN  NaN 2020-12-29 06:00:00  29    12  2020  \n",
       "1 NaN NaN  NaN  NaN 2020-12-29 03:00:00  29    12  2020  \n",
       "2 NaN NaN  NaN  NaN 2020-12-29 00:00:00  29    12  2020  \n",
       "3 NaN NaN  NaN  NaN 2020-12-28 21:00:00  28    12  2020  \n",
       "4 NaN NaN  NaN  NaN 2020-12-28 18:00:00  28    12  2020  \n",
       "\n",
       "[5 rows x 33 columns]"
      ],
      "text/html": "<div>\n<style scoped>\n    .dataframe tbody tr th:only-of-type {\n        vertical-align: middle;\n    }\n\n    .dataframe tbody tr th {\n        vertical-align: top;\n    }\n\n    .dataframe thead th {\n        text-align: right;\n    }\n</style>\n<table border=\"1\" class=\"dataframe\">\n  <thead>\n    <tr style=\"text-align: right;\">\n      <th></th>\n      <th>Местное время в Витебске (аэропорт)</th>\n      <th>T</th>\n      <th>Po</th>\n      <th>P</th>\n      <th>Pa</th>\n      <th>U</th>\n      <th>DD</th>\n      <th>Ff</th>\n      <th>ff10</th>\n      <th>ff3</th>\n      <th>...</th>\n      <th>RRR</th>\n      <th>tR</th>\n      <th>E</th>\n      <th>Tg</th>\n      <th>E'</th>\n      <th>sss</th>\n      <th>date</th>\n      <th>day</th>\n      <th>month</th>\n      <th>year</th>\n    </tr>\n  </thead>\n  <tbody>\n    <tr>\n      <th>0</th>\n      <td>29.12.2020 06:00</td>\n      <td>-1.1</td>\n      <td>743.2</td>\n      <td>759.8</td>\n      <td>-0.9</td>\n      <td>94</td>\n      <td>Ветер, дующий с юга</td>\n      <td>2</td>\n      <td>NaN</td>\n      <td>NaN</td>\n      <td>...</td>\n      <td>NaN</td>\n      <td>NaN</td>\n      <td>NaN</td>\n      <td>NaN</td>\n      <td>NaN</td>\n      <td>NaN</td>\n      <td>2020-12-29 06:00:00</td>\n      <td>29</td>\n      <td>12</td>\n      <td>2020</td>\n    </tr>\n    <tr>\n      <th>1</th>\n      <td>29.12.2020 03:00</td>\n      <td>-1.0</td>\n      <td>744.1</td>\n      <td>760.6</td>\n      <td>-0.8</td>\n      <td>91</td>\n      <td>Ветер, дующий с юго-юго-востока</td>\n      <td>3</td>\n      <td>NaN</td>\n      <td>12.0</td>\n      <td>...</td>\n      <td>NaN</td>\n      <td>NaN</td>\n      <td>NaN</td>\n      <td>NaN</td>\n      <td>NaN</td>\n      <td>NaN</td>\n      <td>2020-12-29 03:00:00</td>\n      <td>29</td>\n      <td>12</td>\n      <td>2020</td>\n    </tr>\n    <tr>\n      <th>2</th>\n      <td>29.12.2020 00:00</td>\n      <td>-1.3</td>\n      <td>744.9</td>\n      <td>761.5</td>\n      <td>-0.7</td>\n      <td>88</td>\n      <td>Ветер, дующий с юга</td>\n      <td>3</td>\n      <td>NaN</td>\n      <td>12.0</td>\n      <td>...</td>\n      <td>NaN</td>\n      <td>NaN</td>\n      <td>NaN</td>\n      <td>NaN</td>\n      <td>NaN</td>\n      <td>NaN</td>\n      <td>2020-12-29 00:00:00</td>\n      <td>29</td>\n      <td>12</td>\n      <td>2020</td>\n    </tr>\n    <tr>\n      <th>3</th>\n      <td>28.12.2020 21:00</td>\n      <td>-1.8</td>\n      <td>745.6</td>\n      <td>762.2</td>\n      <td>-1.3</td>\n      <td>73</td>\n      <td>Ветер, дующий с юго-востока</td>\n      <td>5</td>\n      <td>12.0</td>\n      <td>13.0</td>\n      <td>...</td>\n      <td>Следы осадков</td>\n      <td>12.0</td>\n      <td>NaN</td>\n      <td>NaN</td>\n      <td>NaN</td>\n      <td>NaN</td>\n      <td>2020-12-28 21:00:00</td>\n      <td>28</td>\n      <td>12</td>\n      <td>2020</td>\n    </tr>\n    <tr>\n      <th>4</th>\n      <td>28.12.2020 18:00</td>\n      <td>-1.8</td>\n      <td>746.9</td>\n      <td>763.6</td>\n      <td>-0.8</td>\n      <td>73</td>\n      <td>Ветер, дующий с юго-востока</td>\n      <td>3</td>\n      <td>NaN</td>\n      <td>10.0</td>\n      <td>...</td>\n      <td>NaN</td>\n      <td>NaN</td>\n      <td>NaN</td>\n      <td>NaN</td>\n      <td>NaN</td>\n      <td>NaN</td>\n      <td>2020-12-28 18:00:00</td>\n      <td>28</td>\n      <td>12</td>\n      <td>2020</td>\n    </tr>\n  </tbody>\n</table>\n<p>5 rows × 33 columns</p>\n</div>"
     },
     "metadata": {},
     "execution_count": 9
    }
   ],
   "source": [
    "weather.head()"
   ]
  },
  {
   "cell_type": "code",
   "execution_count": 10,
   "metadata": {},
   "outputs": [
    {
     "output_type": "execute_result",
     "data": {
      "text/plain": [
       "year\n",
       "2015    8.213297\n",
       "2016    7.057206\n",
       "2017    6.970034\n",
       "2018    7.151712\n",
       "2019    8.219287\n",
       "2020    8.718651\n",
       "Name: T, dtype: float64"
      ]
     },
     "metadata": {},
     "execution_count": 10
    }
   ],
   "source": [
    "weather.groupby(['year'])['T'].mean()   # средняя температура по годам"
   ]
  },
  {
   "cell_type": "code",
   "execution_count": 11,
   "metadata": {},
   "outputs": [
    {
     "output_type": "execute_result",
     "data": {
      "text/plain": [
       "month\n",
       "1     -4.299530\n",
       "2     -2.098971\n",
       "3      1.601478\n",
       "4      7.296734\n",
       "5     13.592876\n",
       "6     18.120694\n",
       "7     18.003024\n",
       "8     18.432258\n",
       "9     13.491389\n",
       "10     6.915276\n",
       "11     1.555625\n",
       "12    -0.625034\n",
       "Name: T, dtype: float64"
      ]
     },
     "metadata": {},
     "execution_count": 11
    }
   ],
   "source": [
    "weather.groupby(['month'])['T'].mean()   # средняя по месяцам"
   ]
  },
  {
   "cell_type": "code",
   "execution_count": 12,
   "metadata": {},
   "outputs": [
    {
     "output_type": "execute_result",
     "data": {
      "text/plain": [
       "<matplotlib.axes._subplots.AxesSubplot at 0x145a0cb5700>"
      ]
     },
     "metadata": {},
     "execution_count": 12
    },
    {
     "output_type": "display_data",
     "data": {
      "text/plain": "<Figure size 432x288 with 1 Axes>",
      "image/svg+xml": "<?xml version=\"1.0\" encoding=\"utf-8\" standalone=\"no\"?>\r\n<!DOCTYPE svg PUBLIC \"-//W3C//DTD SVG 1.1//EN\"\r\n  \"http://www.w3.org/Graphics/SVG/1.1/DTD/svg11.dtd\">\r\n<!-- Created with matplotlib (https://matplotlib.org/) -->\r\n<svg height=\"248.518125pt\" version=\"1.1\" viewBox=\"0 0 383.97111 248.518125\" width=\"383.97111pt\" xmlns=\"http://www.w3.org/2000/svg\" xmlns:xlink=\"http://www.w3.org/1999/xlink\">\r\n <defs>\r\n  <style type=\"text/css\">\r\n*{stroke-linecap:butt;stroke-linejoin:round;}\r\n  </style>\r\n </defs>\r\n <g id=\"figure_1\">\r\n  <g id=\"patch_1\">\r\n   <path d=\"M -0 248.518125 \r\nL 383.97111 248.518125 \r\nL 383.97111 0 \r\nL -0 0 \r\nz\r\n\"/>\r\n  </g>\r\n  <g id=\"axes_1\">\r\n   <g id=\"patch_2\">\r\n    <path d=\"M 39.65 224.64 \r\nL 374.45 224.64 \r\nL 374.45 7.2 \r\nL 39.65 7.2 \r\nz\r\n\"/>\r\n   </g>\r\n   <g id=\"patch_3\">\r\n    <path clip-path=\"url(#p1106fb4ea4)\" d=\"M 54.868182 224.64 \r\nL 85.304545 224.64 \r\nL 85.304545 223.236929 \r\nL 54.868182 223.236929 \r\nz\r\n\" style=\"fill:#8dd3c7;\"/>\r\n   </g>\r\n   <g id=\"patch_4\">\r\n    <path clip-path=\"url(#p1106fb4ea4)\" d=\"M 85.304545 224.64 \r\nL 115.740909 224.64 \r\nL 115.740909 219.482766 \r\nL 85.304545 219.482766 \r\nz\r\n\" style=\"fill:#8dd3c7;\"/>\r\n   </g>\r\n   <g id=\"patch_5\">\r\n    <path clip-path=\"url(#p1106fb4ea4)\" d=\"M 115.740909 224.64 \r\nL 146.177273 224.64 \r\nL 146.177273 207.196413 \r\nL 115.740909 207.196413 \r\nz\r\n\" style=\"fill:#8dd3c7;\"/>\r\n   </g>\r\n   <g id=\"patch_6\">\r\n    <path clip-path=\"url(#p1106fb4ea4)\" d=\"M 146.177273 224.64 \r\nL 176.613636 224.64 \r\nL 176.613636 155.927436 \r\nL 146.177273 155.927436 \r\nz\r\n\" style=\"fill:#8dd3c7;\"/>\r\n   </g>\r\n   <g id=\"patch_7\">\r\n    <path clip-path=\"url(#p1106fb4ea4)\" d=\"M 176.613636 224.64 \r\nL 207.05 224.64 \r\nL 207.05 47.663434 \r\nL 176.613636 47.663434 \r\nz\r\n\" style=\"fill:#8dd3c7;\"/>\r\n   </g>\r\n   <g id=\"patch_8\">\r\n    <path clip-path=\"url(#p1106fb4ea4)\" d=\"M 207.05 224.64 \r\nL 237.486364 224.64 \r\nL 237.486364 17.554286 \r\nL 207.05 17.554286 \r\nz\r\n\" style=\"fill:#8dd3c7;\"/>\r\n   </g>\r\n   <g id=\"patch_9\">\r\n    <path clip-path=\"url(#p1106fb4ea4)\" d=\"M 237.486364 224.64 \r\nL 267.922727 224.64 \r\nL 267.922727 99.34954 \r\nL 237.486364 99.34954 \r\nz\r\n\" style=\"fill:#8dd3c7;\"/>\r\n   </g>\r\n   <g id=\"patch_10\">\r\n    <path clip-path=\"url(#p1106fb4ea4)\" d=\"M 267.922727 224.64 \r\nL 298.359091 224.64 \r\nL 298.359091 181.144795 \r\nL 267.922727 181.144795 \r\nz\r\n\" style=\"fill:#8dd3c7;\"/>\r\n   </g>\r\n   <g id=\"patch_11\">\r\n    <path clip-path=\"url(#p1106fb4ea4)\" d=\"M 298.359091 224.64 \r\nL 328.795455 224.64 \r\nL 328.795455 212.694935 \r\nL 298.359091 212.694935 \r\nz\r\n\" style=\"fill:#8dd3c7;\"/>\r\n   </g>\r\n   <g id=\"patch_12\">\r\n    <path clip-path=\"url(#p1106fb4ea4)\" d=\"M 328.795455 224.64 \r\nL 359.231818 224.64 \r\nL 359.231818 221.151283 \r\nL 328.795455 221.151283 \r\nz\r\n\" style=\"fill:#8dd3c7;\"/>\r\n   </g>\r\n   <g id=\"matplotlib.axis_1\">\r\n    <g id=\"xtick_1\">\r\n     <g id=\"line2d_1\">\r\n      <path clip-path=\"url(#p1106fb4ea4)\" d=\"M 47.405676 224.64 \r\nL 47.405676 7.2 \r\n\" style=\"fill:none;stroke:#ffffff;stroke-linecap:square;stroke-width:0.8;\"/>\r\n     </g>\r\n     <g id=\"line2d_2\">\r\n      <defs>\r\n       <path d=\"M 0 0 \r\nL 0 3.5 \r\n\" id=\"ma66519d2ff\" style=\"stroke:#ffffff;stroke-width:0.8;\"/>\r\n      </defs>\r\n      <g>\r\n       <use style=\"fill:#ffffff;stroke:#ffffff;stroke-width:0.8;\" x=\"47.405676\" xlink:href=\"#ma66519d2ff\" y=\"224.64\"/>\r\n      </g>\r\n     </g>\r\n     <g id=\"text_1\">\r\n      <!-- 730 -->\r\n      <defs>\r\n       <path d=\"M 8.203125 72.90625 \r\nL 55.078125 72.90625 \r\nL 55.078125 68.703125 \r\nL 28.609375 0 \r\nL 18.3125 0 \r\nL 43.21875 64.59375 \r\nL 8.203125 64.59375 \r\nz\r\n\" id=\"DejaVuSans-55\"/>\r\n       <path d=\"M 40.578125 39.3125 \r\nQ 47.65625 37.796875 51.625 33 \r\nQ 55.609375 28.21875 55.609375 21.1875 \r\nQ 55.609375 10.40625 48.1875 4.484375 \r\nQ 40.765625 -1.421875 27.09375 -1.421875 \r\nQ 22.515625 -1.421875 17.65625 -0.515625 \r\nQ 12.796875 0.390625 7.625 2.203125 \r\nL 7.625 11.71875 \r\nQ 11.71875 9.328125 16.59375 8.109375 \r\nQ 21.484375 6.890625 26.8125 6.890625 \r\nQ 36.078125 6.890625 40.9375 10.546875 \r\nQ 45.796875 14.203125 45.796875 21.1875 \r\nQ 45.796875 27.640625 41.28125 31.265625 \r\nQ 36.765625 34.90625 28.71875 34.90625 \r\nL 20.21875 34.90625 \r\nL 20.21875 43.015625 \r\nL 29.109375 43.015625 \r\nQ 36.375 43.015625 40.234375 45.921875 \r\nQ 44.09375 48.828125 44.09375 54.296875 \r\nQ 44.09375 59.90625 40.109375 62.90625 \r\nQ 36.140625 65.921875 28.71875 65.921875 \r\nQ 24.65625 65.921875 20.015625 65.03125 \r\nQ 15.375 64.15625 9.8125 62.3125 \r\nL 9.8125 71.09375 \r\nQ 15.4375 72.65625 20.34375 73.4375 \r\nQ 25.25 74.21875 29.59375 74.21875 \r\nQ 40.828125 74.21875 47.359375 69.109375 \r\nQ 53.90625 64.015625 53.90625 55.328125 \r\nQ 53.90625 49.265625 50.4375 45.09375 \r\nQ 46.96875 40.921875 40.578125 39.3125 \r\nz\r\n\" id=\"DejaVuSans-51\"/>\r\n       <path d=\"M 31.78125 66.40625 \r\nQ 24.171875 66.40625 20.328125 58.90625 \r\nQ 16.5 51.421875 16.5 36.375 \r\nQ 16.5 21.390625 20.328125 13.890625 \r\nQ 24.171875 6.390625 31.78125 6.390625 \r\nQ 39.453125 6.390625 43.28125 13.890625 \r\nQ 47.125 21.390625 47.125 36.375 \r\nQ 47.125 51.421875 43.28125 58.90625 \r\nQ 39.453125 66.40625 31.78125 66.40625 \r\nz\r\nM 31.78125 74.21875 \r\nQ 44.046875 74.21875 50.515625 64.515625 \r\nQ 56.984375 54.828125 56.984375 36.375 \r\nQ 56.984375 17.96875 50.515625 8.265625 \r\nQ 44.046875 -1.421875 31.78125 -1.421875 \r\nQ 19.53125 -1.421875 13.0625 8.265625 \r\nQ 6.59375 17.96875 6.59375 36.375 \r\nQ 6.59375 54.828125 13.0625 64.515625 \r\nQ 19.53125 74.21875 31.78125 74.21875 \r\nz\r\n\" id=\"DejaVuSans-48\"/>\r\n      </defs>\r\n      <g style=\"fill:#ffffff;\" transform=\"translate(37.861926 239.238438)scale(0.1 -0.1)\">\r\n       <use xlink:href=\"#DejaVuSans-55\"/>\r\n       <use x=\"63.623047\" xlink:href=\"#DejaVuSans-51\"/>\r\n       <use x=\"127.246094\" xlink:href=\"#DejaVuSans-48\"/>\r\n      </g>\r\n     </g>\r\n    </g>\r\n    <g id=\"xtick_2\">\r\n     <g id=\"line2d_3\">\r\n      <path clip-path=\"url(#p1106fb4ea4)\" d=\"M 100.70929 224.64 \r\nL 100.70929 7.2 \r\n\" style=\"fill:none;stroke:#ffffff;stroke-linecap:square;stroke-width:0.8;\"/>\r\n     </g>\r\n     <g id=\"line2d_4\">\r\n      <g>\r\n       <use style=\"fill:#ffffff;stroke:#ffffff;stroke-width:0.8;\" x=\"100.70929\" xlink:href=\"#ma66519d2ff\" y=\"224.64\"/>\r\n      </g>\r\n     </g>\r\n     <g id=\"text_2\">\r\n      <!-- 740 -->\r\n      <defs>\r\n       <path d=\"M 37.796875 64.3125 \r\nL 12.890625 25.390625 \r\nL 37.796875 25.390625 \r\nz\r\nM 35.203125 72.90625 \r\nL 47.609375 72.90625 \r\nL 47.609375 25.390625 \r\nL 58.015625 25.390625 \r\nL 58.015625 17.1875 \r\nL 47.609375 17.1875 \r\nL 47.609375 0 \r\nL 37.796875 0 \r\nL 37.796875 17.1875 \r\nL 4.890625 17.1875 \r\nL 4.890625 26.703125 \r\nz\r\n\" id=\"DejaVuSans-52\"/>\r\n      </defs>\r\n      <g style=\"fill:#ffffff;\" transform=\"translate(91.16554 239.238438)scale(0.1 -0.1)\">\r\n       <use xlink:href=\"#DejaVuSans-55\"/>\r\n       <use x=\"63.623047\" xlink:href=\"#DejaVuSans-52\"/>\r\n       <use x=\"127.246094\" xlink:href=\"#DejaVuSans-48\"/>\r\n      </g>\r\n     </g>\r\n    </g>\r\n    <g id=\"xtick_3\">\r\n     <g id=\"line2d_5\">\r\n      <path clip-path=\"url(#p1106fb4ea4)\" d=\"M 154.012904 224.64 \r\nL 154.012904 7.2 \r\n\" style=\"fill:none;stroke:#ffffff;stroke-linecap:square;stroke-width:0.8;\"/>\r\n     </g>\r\n     <g id=\"line2d_6\">\r\n      <g>\r\n       <use style=\"fill:#ffffff;stroke:#ffffff;stroke-width:0.8;\" x=\"154.012904\" xlink:href=\"#ma66519d2ff\" y=\"224.64\"/>\r\n      </g>\r\n     </g>\r\n     <g id=\"text_3\">\r\n      <!-- 750 -->\r\n      <defs>\r\n       <path d=\"M 10.796875 72.90625 \r\nL 49.515625 72.90625 \r\nL 49.515625 64.59375 \r\nL 19.828125 64.59375 \r\nL 19.828125 46.734375 \r\nQ 21.96875 47.46875 24.109375 47.828125 \r\nQ 26.265625 48.1875 28.421875 48.1875 \r\nQ 40.625 48.1875 47.75 41.5 \r\nQ 54.890625 34.8125 54.890625 23.390625 \r\nQ 54.890625 11.625 47.5625 5.09375 \r\nQ 40.234375 -1.421875 26.90625 -1.421875 \r\nQ 22.3125 -1.421875 17.546875 -0.640625 \r\nQ 12.796875 0.140625 7.71875 1.703125 \r\nL 7.71875 11.625 \r\nQ 12.109375 9.234375 16.796875 8.0625 \r\nQ 21.484375 6.890625 26.703125 6.890625 \r\nQ 35.15625 6.890625 40.078125 11.328125 \r\nQ 45.015625 15.765625 45.015625 23.390625 \r\nQ 45.015625 31 40.078125 35.4375 \r\nQ 35.15625 39.890625 26.703125 39.890625 \r\nQ 22.75 39.890625 18.8125 39.015625 \r\nQ 14.890625 38.140625 10.796875 36.28125 \r\nz\r\n\" id=\"DejaVuSans-53\"/>\r\n      </defs>\r\n      <g style=\"fill:#ffffff;\" transform=\"translate(144.469154 239.238438)scale(0.1 -0.1)\">\r\n       <use xlink:href=\"#DejaVuSans-55\"/>\r\n       <use x=\"63.623047\" xlink:href=\"#DejaVuSans-53\"/>\r\n       <use x=\"127.246094\" xlink:href=\"#DejaVuSans-48\"/>\r\n      </g>\r\n     </g>\r\n    </g>\r\n    <g id=\"xtick_4\">\r\n     <g id=\"line2d_7\">\r\n      <path clip-path=\"url(#p1106fb4ea4)\" d=\"M 207.316518 224.64 \r\nL 207.316518 7.2 \r\n\" style=\"fill:none;stroke:#ffffff;stroke-linecap:square;stroke-width:0.8;\"/>\r\n     </g>\r\n     <g id=\"line2d_8\">\r\n      <g>\r\n       <use style=\"fill:#ffffff;stroke:#ffffff;stroke-width:0.8;\" x=\"207.316518\" xlink:href=\"#ma66519d2ff\" y=\"224.64\"/>\r\n      </g>\r\n     </g>\r\n     <g id=\"text_4\">\r\n      <!-- 760 -->\r\n      <defs>\r\n       <path d=\"M 33.015625 40.375 \r\nQ 26.375 40.375 22.484375 35.828125 \r\nQ 18.609375 31.296875 18.609375 23.390625 \r\nQ 18.609375 15.53125 22.484375 10.953125 \r\nQ 26.375 6.390625 33.015625 6.390625 \r\nQ 39.65625 6.390625 43.53125 10.953125 \r\nQ 47.40625 15.53125 47.40625 23.390625 \r\nQ 47.40625 31.296875 43.53125 35.828125 \r\nQ 39.65625 40.375 33.015625 40.375 \r\nz\r\nM 52.59375 71.296875 \r\nL 52.59375 62.3125 \r\nQ 48.875 64.0625 45.09375 64.984375 \r\nQ 41.3125 65.921875 37.59375 65.921875 \r\nQ 27.828125 65.921875 22.671875 59.328125 \r\nQ 17.53125 52.734375 16.796875 39.40625 \r\nQ 19.671875 43.65625 24.015625 45.921875 \r\nQ 28.375 48.1875 33.59375 48.1875 \r\nQ 44.578125 48.1875 50.953125 41.515625 \r\nQ 57.328125 34.859375 57.328125 23.390625 \r\nQ 57.328125 12.15625 50.6875 5.359375 \r\nQ 44.046875 -1.421875 33.015625 -1.421875 \r\nQ 20.359375 -1.421875 13.671875 8.265625 \r\nQ 6.984375 17.96875 6.984375 36.375 \r\nQ 6.984375 53.65625 15.1875 63.9375 \r\nQ 23.390625 74.21875 37.203125 74.21875 \r\nQ 40.921875 74.21875 44.703125 73.484375 \r\nQ 48.484375 72.75 52.59375 71.296875 \r\nz\r\n\" id=\"DejaVuSans-54\"/>\r\n      </defs>\r\n      <g style=\"fill:#ffffff;\" transform=\"translate(197.772768 239.238438)scale(0.1 -0.1)\">\r\n       <use xlink:href=\"#DejaVuSans-55\"/>\r\n       <use x=\"63.623047\" xlink:href=\"#DejaVuSans-54\"/>\r\n       <use x=\"127.246094\" xlink:href=\"#DejaVuSans-48\"/>\r\n      </g>\r\n     </g>\r\n    </g>\r\n    <g id=\"xtick_5\">\r\n     <g id=\"line2d_9\">\r\n      <path clip-path=\"url(#p1106fb4ea4)\" d=\"M 260.620132 224.64 \r\nL 260.620132 7.2 \r\n\" style=\"fill:none;stroke:#ffffff;stroke-linecap:square;stroke-width:0.8;\"/>\r\n     </g>\r\n     <g id=\"line2d_10\">\r\n      <g>\r\n       <use style=\"fill:#ffffff;stroke:#ffffff;stroke-width:0.8;\" x=\"260.620132\" xlink:href=\"#ma66519d2ff\" y=\"224.64\"/>\r\n      </g>\r\n     </g>\r\n     <g id=\"text_5\">\r\n      <!-- 770 -->\r\n      <g style=\"fill:#ffffff;\" transform=\"translate(251.076382 239.238438)scale(0.1 -0.1)\">\r\n       <use xlink:href=\"#DejaVuSans-55\"/>\r\n       <use x=\"63.623047\" xlink:href=\"#DejaVuSans-55\"/>\r\n       <use x=\"127.246094\" xlink:href=\"#DejaVuSans-48\"/>\r\n      </g>\r\n     </g>\r\n    </g>\r\n    <g id=\"xtick_6\">\r\n     <g id=\"line2d_11\">\r\n      <path clip-path=\"url(#p1106fb4ea4)\" d=\"M 313.923746 224.64 \r\nL 313.923746 7.2 \r\n\" style=\"fill:none;stroke:#ffffff;stroke-linecap:square;stroke-width:0.8;\"/>\r\n     </g>\r\n     <g id=\"line2d_12\">\r\n      <g>\r\n       <use style=\"fill:#ffffff;stroke:#ffffff;stroke-width:0.8;\" x=\"313.923746\" xlink:href=\"#ma66519d2ff\" y=\"224.64\"/>\r\n      </g>\r\n     </g>\r\n     <g id=\"text_6\">\r\n      <!-- 780 -->\r\n      <defs>\r\n       <path d=\"M 31.78125 34.625 \r\nQ 24.75 34.625 20.71875 30.859375 \r\nQ 16.703125 27.09375 16.703125 20.515625 \r\nQ 16.703125 13.921875 20.71875 10.15625 \r\nQ 24.75 6.390625 31.78125 6.390625 \r\nQ 38.8125 6.390625 42.859375 10.171875 \r\nQ 46.921875 13.96875 46.921875 20.515625 \r\nQ 46.921875 27.09375 42.890625 30.859375 \r\nQ 38.875 34.625 31.78125 34.625 \r\nz\r\nM 21.921875 38.8125 \r\nQ 15.578125 40.375 12.03125 44.71875 \r\nQ 8.5 49.078125 8.5 55.328125 \r\nQ 8.5 64.0625 14.71875 69.140625 \r\nQ 20.953125 74.21875 31.78125 74.21875 \r\nQ 42.671875 74.21875 48.875 69.140625 \r\nQ 55.078125 64.0625 55.078125 55.328125 \r\nQ 55.078125 49.078125 51.53125 44.71875 \r\nQ 48 40.375 41.703125 38.8125 \r\nQ 48.828125 37.15625 52.796875 32.3125 \r\nQ 56.78125 27.484375 56.78125 20.515625 \r\nQ 56.78125 9.90625 50.3125 4.234375 \r\nQ 43.84375 -1.421875 31.78125 -1.421875 \r\nQ 19.734375 -1.421875 13.25 4.234375 \r\nQ 6.78125 9.90625 6.78125 20.515625 \r\nQ 6.78125 27.484375 10.78125 32.3125 \r\nQ 14.796875 37.15625 21.921875 38.8125 \r\nz\r\nM 18.3125 54.390625 \r\nQ 18.3125 48.734375 21.84375 45.5625 \r\nQ 25.390625 42.390625 31.78125 42.390625 \r\nQ 38.140625 42.390625 41.71875 45.5625 \r\nQ 45.3125 48.734375 45.3125 54.390625 \r\nQ 45.3125 60.0625 41.71875 63.234375 \r\nQ 38.140625 66.40625 31.78125 66.40625 \r\nQ 25.390625 66.40625 21.84375 63.234375 \r\nQ 18.3125 60.0625 18.3125 54.390625 \r\nz\r\n\" id=\"DejaVuSans-56\"/>\r\n      </defs>\r\n      <g style=\"fill:#ffffff;\" transform=\"translate(304.379996 239.238438)scale(0.1 -0.1)\">\r\n       <use xlink:href=\"#DejaVuSans-55\"/>\r\n       <use x=\"63.623047\" xlink:href=\"#DejaVuSans-56\"/>\r\n       <use x=\"127.246094\" xlink:href=\"#DejaVuSans-48\"/>\r\n      </g>\r\n     </g>\r\n    </g>\r\n    <g id=\"xtick_7\">\r\n     <g id=\"line2d_13\">\r\n      <path clip-path=\"url(#p1106fb4ea4)\" d=\"M 367.22736 224.64 \r\nL 367.22736 7.2 \r\n\" style=\"fill:none;stroke:#ffffff;stroke-linecap:square;stroke-width:0.8;\"/>\r\n     </g>\r\n     <g id=\"line2d_14\">\r\n      <g>\r\n       <use style=\"fill:#ffffff;stroke:#ffffff;stroke-width:0.8;\" x=\"367.22736\" xlink:href=\"#ma66519d2ff\" y=\"224.64\"/>\r\n      </g>\r\n     </g>\r\n     <g id=\"text_7\">\r\n      <!-- 790 -->\r\n      <defs>\r\n       <path d=\"M 10.984375 1.515625 \r\nL 10.984375 10.5 \r\nQ 14.703125 8.734375 18.5 7.8125 \r\nQ 22.3125 6.890625 25.984375 6.890625 \r\nQ 35.75 6.890625 40.890625 13.453125 \r\nQ 46.046875 20.015625 46.78125 33.40625 \r\nQ 43.953125 29.203125 39.59375 26.953125 \r\nQ 35.25 24.703125 29.984375 24.703125 \r\nQ 19.046875 24.703125 12.671875 31.3125 \r\nQ 6.296875 37.9375 6.296875 49.421875 \r\nQ 6.296875 60.640625 12.9375 67.421875 \r\nQ 19.578125 74.21875 30.609375 74.21875 \r\nQ 43.265625 74.21875 49.921875 64.515625 \r\nQ 56.59375 54.828125 56.59375 36.375 \r\nQ 56.59375 19.140625 48.40625 8.859375 \r\nQ 40.234375 -1.421875 26.421875 -1.421875 \r\nQ 22.703125 -1.421875 18.890625 -0.6875 \r\nQ 15.09375 0.046875 10.984375 1.515625 \r\nz\r\nM 30.609375 32.421875 \r\nQ 37.25 32.421875 41.125 36.953125 \r\nQ 45.015625 41.5 45.015625 49.421875 \r\nQ 45.015625 57.28125 41.125 61.84375 \r\nQ 37.25 66.40625 30.609375 66.40625 \r\nQ 23.96875 66.40625 20.09375 61.84375 \r\nQ 16.21875 57.28125 16.21875 49.421875 \r\nQ 16.21875 41.5 20.09375 36.953125 \r\nQ 23.96875 32.421875 30.609375 32.421875 \r\nz\r\n\" id=\"DejaVuSans-57\"/>\r\n      </defs>\r\n      <g style=\"fill:#ffffff;\" transform=\"translate(357.68361 239.238438)scale(0.1 -0.1)\">\r\n       <use xlink:href=\"#DejaVuSans-55\"/>\r\n       <use x=\"63.623047\" xlink:href=\"#DejaVuSans-57\"/>\r\n       <use x=\"127.246094\" xlink:href=\"#DejaVuSans-48\"/>\r\n      </g>\r\n     </g>\r\n    </g>\r\n   </g>\r\n   <g id=\"matplotlib.axis_2\">\r\n    <g id=\"ytick_1\">\r\n     <g id=\"line2d_15\">\r\n      <path clip-path=\"url(#p1106fb4ea4)\" d=\"M 39.65 224.64 \r\nL 374.45 224.64 \r\n\" style=\"fill:none;stroke:#ffffff;stroke-linecap:square;stroke-width:0.8;\"/>\r\n     </g>\r\n     <g id=\"line2d_16\">\r\n      <defs>\r\n       <path d=\"M 0 0 \r\nL -3.5 0 \r\n\" id=\"m9205e1e76b\" style=\"stroke:#ffffff;stroke-width:0.8;\"/>\r\n      </defs>\r\n      <g>\r\n       <use style=\"fill:#ffffff;stroke:#ffffff;stroke-width:0.8;\" x=\"39.65\" xlink:href=\"#m9205e1e76b\" y=\"224.64\"/>\r\n      </g>\r\n     </g>\r\n     <g id=\"text_8\">\r\n      <!-- 0 -->\r\n      <g style=\"fill:#ffffff;\" transform=\"translate(26.2875 228.439219)scale(0.1 -0.1)\">\r\n       <use xlink:href=\"#DejaVuSans-48\"/>\r\n      </g>\r\n     </g>\r\n    </g>\r\n    <g id=\"ytick_2\">\r\n     <g id=\"line2d_17\">\r\n      <path clip-path=\"url(#p1106fb4ea4)\" d=\"M 39.65 186.719159 \r\nL 374.45 186.719159 \r\n\" style=\"fill:none;stroke:#ffffff;stroke-linecap:square;stroke-width:0.8;\"/>\r\n     </g>\r\n     <g id=\"line2d_18\">\r\n      <g>\r\n       <use style=\"fill:#ffffff;stroke:#ffffff;stroke-width:0.8;\" x=\"39.65\" xlink:href=\"#m9205e1e76b\" y=\"186.719159\"/>\r\n      </g>\r\n     </g>\r\n     <g id=\"text_9\">\r\n      <!-- 1000 -->\r\n      <defs>\r\n       <path d=\"M 12.40625 8.296875 \r\nL 28.515625 8.296875 \r\nL 28.515625 63.921875 \r\nL 10.984375 60.40625 \r\nL 10.984375 69.390625 \r\nL 28.421875 72.90625 \r\nL 38.28125 72.90625 \r\nL 38.28125 8.296875 \r\nL 54.390625 8.296875 \r\nL 54.390625 0 \r\nL 12.40625 0 \r\nz\r\n\" id=\"DejaVuSans-49\"/>\r\n      </defs>\r\n      <g style=\"fill:#ffffff;\" transform=\"translate(7.2 190.518377)scale(0.1 -0.1)\">\r\n       <use xlink:href=\"#DejaVuSans-49\"/>\r\n       <use x=\"63.623047\" xlink:href=\"#DejaVuSans-48\"/>\r\n       <use x=\"127.246094\" xlink:href=\"#DejaVuSans-48\"/>\r\n       <use x=\"190.869141\" xlink:href=\"#DejaVuSans-48\"/>\r\n      </g>\r\n     </g>\r\n    </g>\r\n    <g id=\"ytick_3\">\r\n     <g id=\"line2d_19\">\r\n      <path clip-path=\"url(#p1106fb4ea4)\" d=\"M 39.65 148.798317 \r\nL 374.45 148.798317 \r\n\" style=\"fill:none;stroke:#ffffff;stroke-linecap:square;stroke-width:0.8;\"/>\r\n     </g>\r\n     <g id=\"line2d_20\">\r\n      <g>\r\n       <use style=\"fill:#ffffff;stroke:#ffffff;stroke-width:0.8;\" x=\"39.65\" xlink:href=\"#m9205e1e76b\" y=\"148.798317\"/>\r\n      </g>\r\n     </g>\r\n     <g id=\"text_10\">\r\n      <!-- 2000 -->\r\n      <defs>\r\n       <path d=\"M 19.1875 8.296875 \r\nL 53.609375 8.296875 \r\nL 53.609375 0 \r\nL 7.328125 0 \r\nL 7.328125 8.296875 \r\nQ 12.9375 14.109375 22.625 23.890625 \r\nQ 32.328125 33.6875 34.8125 36.53125 \r\nQ 39.546875 41.84375 41.421875 45.53125 \r\nQ 43.3125 49.21875 43.3125 52.78125 \r\nQ 43.3125 58.59375 39.234375 62.25 \r\nQ 35.15625 65.921875 28.609375 65.921875 \r\nQ 23.96875 65.921875 18.8125 64.3125 \r\nQ 13.671875 62.703125 7.8125 59.421875 \r\nL 7.8125 69.390625 \r\nQ 13.765625 71.78125 18.9375 73 \r\nQ 24.125 74.21875 28.421875 74.21875 \r\nQ 39.75 74.21875 46.484375 68.546875 \r\nQ 53.21875 62.890625 53.21875 53.421875 \r\nQ 53.21875 48.921875 51.53125 44.890625 \r\nQ 49.859375 40.875 45.40625 35.40625 \r\nQ 44.1875 33.984375 37.640625 27.21875 \r\nQ 31.109375 20.453125 19.1875 8.296875 \r\nz\r\n\" id=\"DejaVuSans-50\"/>\r\n      </defs>\r\n      <g style=\"fill:#ffffff;\" transform=\"translate(7.2 152.597536)scale(0.1 -0.1)\">\r\n       <use xlink:href=\"#DejaVuSans-50\"/>\r\n       <use x=\"63.623047\" xlink:href=\"#DejaVuSans-48\"/>\r\n       <use x=\"127.246094\" xlink:href=\"#DejaVuSans-48\"/>\r\n       <use x=\"190.869141\" xlink:href=\"#DejaVuSans-48\"/>\r\n      </g>\r\n     </g>\r\n    </g>\r\n    <g id=\"ytick_4\">\r\n     <g id=\"line2d_21\">\r\n      <path clip-path=\"url(#p1106fb4ea4)\" d=\"M 39.65 110.877476 \r\nL 374.45 110.877476 \r\n\" style=\"fill:none;stroke:#ffffff;stroke-linecap:square;stroke-width:0.8;\"/>\r\n     </g>\r\n     <g id=\"line2d_22\">\r\n      <g>\r\n       <use style=\"fill:#ffffff;stroke:#ffffff;stroke-width:0.8;\" x=\"39.65\" xlink:href=\"#m9205e1e76b\" y=\"110.877476\"/>\r\n      </g>\r\n     </g>\r\n     <g id=\"text_11\">\r\n      <!-- 3000 -->\r\n      <g style=\"fill:#ffffff;\" transform=\"translate(7.2 114.676695)scale(0.1 -0.1)\">\r\n       <use xlink:href=\"#DejaVuSans-51\"/>\r\n       <use x=\"63.623047\" xlink:href=\"#DejaVuSans-48\"/>\r\n       <use x=\"127.246094\" xlink:href=\"#DejaVuSans-48\"/>\r\n       <use x=\"190.869141\" xlink:href=\"#DejaVuSans-48\"/>\r\n      </g>\r\n     </g>\r\n    </g>\r\n    <g id=\"ytick_5\">\r\n     <g id=\"line2d_23\">\r\n      <path clip-path=\"url(#p1106fb4ea4)\" d=\"M 39.65 72.956635 \r\nL 374.45 72.956635 \r\n\" style=\"fill:none;stroke:#ffffff;stroke-linecap:square;stroke-width:0.8;\"/>\r\n     </g>\r\n     <g id=\"line2d_24\">\r\n      <g>\r\n       <use style=\"fill:#ffffff;stroke:#ffffff;stroke-width:0.8;\" x=\"39.65\" xlink:href=\"#m9205e1e76b\" y=\"72.956635\"/>\r\n      </g>\r\n     </g>\r\n     <g id=\"text_12\">\r\n      <!-- 4000 -->\r\n      <g style=\"fill:#ffffff;\" transform=\"translate(7.2 76.755854)scale(0.1 -0.1)\">\r\n       <use xlink:href=\"#DejaVuSans-52\"/>\r\n       <use x=\"63.623047\" xlink:href=\"#DejaVuSans-48\"/>\r\n       <use x=\"127.246094\" xlink:href=\"#DejaVuSans-48\"/>\r\n       <use x=\"190.869141\" xlink:href=\"#DejaVuSans-48\"/>\r\n      </g>\r\n     </g>\r\n    </g>\r\n    <g id=\"ytick_6\">\r\n     <g id=\"line2d_25\">\r\n      <path clip-path=\"url(#p1106fb4ea4)\" d=\"M 39.65 35.035794 \r\nL 374.45 35.035794 \r\n\" style=\"fill:none;stroke:#ffffff;stroke-linecap:square;stroke-width:0.8;\"/>\r\n     </g>\r\n     <g id=\"line2d_26\">\r\n      <g>\r\n       <use style=\"fill:#ffffff;stroke:#ffffff;stroke-width:0.8;\" x=\"39.65\" xlink:href=\"#m9205e1e76b\" y=\"35.035794\"/>\r\n      </g>\r\n     </g>\r\n     <g id=\"text_13\">\r\n      <!-- 5000 -->\r\n      <g style=\"fill:#ffffff;\" transform=\"translate(7.2 38.835012)scale(0.1 -0.1)\">\r\n       <use xlink:href=\"#DejaVuSans-53\"/>\r\n       <use x=\"63.623047\" xlink:href=\"#DejaVuSans-48\"/>\r\n       <use x=\"127.246094\" xlink:href=\"#DejaVuSans-48\"/>\r\n       <use x=\"190.869141\" xlink:href=\"#DejaVuSans-48\"/>\r\n      </g>\r\n     </g>\r\n    </g>\r\n   </g>\r\n   <g id=\"patch_13\">\r\n    <path d=\"M 39.65 224.64 \r\nL 39.65 7.2 \r\n\" style=\"fill:none;stroke:#ffffff;stroke-linecap:square;stroke-linejoin:miter;stroke-width:0.8;\"/>\r\n   </g>\r\n   <g id=\"patch_14\">\r\n    <path d=\"M 374.45 224.64 \r\nL 374.45 7.2 \r\n\" style=\"fill:none;stroke:#ffffff;stroke-linecap:square;stroke-linejoin:miter;stroke-width:0.8;\"/>\r\n   </g>\r\n   <g id=\"patch_15\">\r\n    <path d=\"M 39.65 224.64 \r\nL 374.45 224.64 \r\n\" style=\"fill:none;stroke:#ffffff;stroke-linecap:square;stroke-linejoin:miter;stroke-width:0.8;\"/>\r\n   </g>\r\n   <g id=\"patch_16\">\r\n    <path d=\"M 39.65 7.2 \r\nL 374.45 7.2 \r\n\" style=\"fill:none;stroke:#ffffff;stroke-linecap:square;stroke-linejoin:miter;stroke-width:0.8;\"/>\r\n   </g>\r\n  </g>\r\n </g>\r\n <defs>\r\n  <clipPath id=\"p1106fb4ea4\">\r\n   <rect height=\"217.44\" width=\"334.8\" x=\"39.65\" y=\"7.2\"/>\r\n  </clipPath>\r\n </defs>\r\n</svg>\r\n",
      "image/png": "[encoded data removed]"
     },
     "metadata": {}
    }
   ],
   "source": [
    "weather['P'].hist()"
   ]
  },
  {
   "cell_type": "code",
   "execution_count": 13,
   "metadata": {},
   "outputs": [
    {
     "output_type": "stream",
     "name": "stdout",
     "text": [
      "Максимальное атмосферное давление:  771.4\nМинимальное атмосферное давление:  715.9\n"
     ]
    }
   ],
   "source": [
    "print('Максимальное атмосферное давление: ', weather['Po'].max())\n",
    "print('Минимальное атмосферное давление: ', weather['Po'].min())"
   ]
  },
  {
   "cell_type": "code",
   "execution_count": 14,
   "metadata": {},
   "outputs": [
    {
     "output_type": "execute_result",
     "data": {
      "text/plain": [
       "      Местное время в Витебске (аэропорт)     T     Po      P   Pa   U  \\\n",
       "11605                    08.01.2017 09:00 -29.7  755.0  773.8  0.4  74   \n",
       "\n",
       "                                          DD  Ff  ff10  ff3  ...  RRR  tR   E  \\\n",
       "11605  Ветер, дующий с северо-северо-востока   1   NaN  NaN  ...  NaN NaN NaN   \n",
       "\n",
       "       Tg                                                 E'  sss  \\\n",
       "11605 NaN  Ровный слой сухого рассыпчатого снега покрывае...   14   \n",
       "\n",
       "                     date day month  year  \n",
       "11605 2017-01-08 09:00:00   8     1  2017  \n",
       "\n",
       "[1 rows x 33 columns]"
      ],
      "text/html": "<div>\n<style scoped>\n    .dataframe tbody tr th:only-of-type {\n        vertical-align: middle;\n    }\n\n    .dataframe tbody tr th {\n        vertical-align: top;\n    }\n\n    .dataframe thead th {\n        text-align: right;\n    }\n</style>\n<table border=\"1\" class=\"dataframe\">\n  <thead>\n    <tr style=\"text-align: right;\">\n      <th></th>\n      <th>Местное время в Витебске (аэропорт)</th>\n      <th>T</th>\n      <th>Po</th>\n      <th>P</th>\n      <th>Pa</th>\n      <th>U</th>\n      <th>DD</th>\n      <th>Ff</th>\n      <th>ff10</th>\n      <th>ff3</th>\n      <th>...</th>\n      <th>RRR</th>\n      <th>tR</th>\n      <th>E</th>\n      <th>Tg</th>\n      <th>E'</th>\n      <th>sss</th>\n      <th>date</th>\n      <th>day</th>\n      <th>month</th>\n      <th>year</th>\n    </tr>\n  </thead>\n  <tbody>\n    <tr>\n      <th>11605</th>\n      <td>08.01.2017 09:00</td>\n      <td>-29.7</td>\n      <td>755.0</td>\n      <td>773.8</td>\n      <td>0.4</td>\n      <td>74</td>\n      <td>Ветер, дующий с северо-северо-востока</td>\n      <td>1</td>\n      <td>NaN</td>\n      <td>NaN</td>\n      <td>...</td>\n      <td>NaN</td>\n      <td>NaN</td>\n      <td>NaN</td>\n      <td>NaN</td>\n      <td>Ровный слой сухого рассыпчатого снега покрывае...</td>\n      <td>14</td>\n      <td>2017-01-08 09:00:00</td>\n      <td>8</td>\n      <td>1</td>\n      <td>2017</td>\n    </tr>\n  </tbody>\n</table>\n<p>1 rows × 33 columns</p>\n</div>"
     },
     "metadata": {},
     "execution_count": 14
    }
   ],
   "source": [
    "weather[(weather['year']) & (weather['T'] == -29.7)]   # дата с минимальной температурой\n",
    "#print('Дата с минимальной температурой: ', weather[(weather['year']) & (weather['T'] == -29.7)])"
   ]
  },
  {
   "cell_type": "code",
   "execution_count": 15,
   "metadata": {},
   "outputs": [
    {
     "output_type": "execute_result",
     "data": {
      "text/plain": [
       "0"
      ]
     },
     "metadata": {},
     "execution_count": 15
    }
   ],
   "source": [
    "weather['Ff'].min()"
   ]
  },
  {
   "cell_type": "code",
   "execution_count": 16,
   "metadata": {},
   "outputs": [
    {
     "output_type": "execute_result",
     "data": {
      "text/plain": [
       "2.003997487293701"
      ]
     },
     "metadata": {},
     "execution_count": 16
    }
   ],
   "source": [
    "weather['Ff'].mean()"
   ]
  },
  {
   "cell_type": "code",
   "execution_count": 17,
   "metadata": {},
   "outputs": [
    {
     "output_type": "execute_result",
     "data": {
      "text/plain": [
       "7.720512820512821"
      ]
     },
     "metadata": {},
     "execution_count": 17
    }
   ],
   "source": [
    "weather['T'].mean()"
   ]
  },
  {
   "cell_type": "code",
   "execution_count": 18,
   "metadata": {},
   "outputs": [
    {
     "output_type": "execute_result",
     "data": {
      "text/plain": [
       "     Местное время в Витебске (аэропорт)    T     Po      P   Pa   U  \\\n",
       "2922                    29.12.2019 21:00 -5.0  758.2  775.3 -0.5  98   \n",
       "2923                    29.12.2019 18:00 -5.3  758.7  775.9 -0.2  97   \n",
       "2924                    29.12.2019 15:00 -5.4  758.9  776.1 -0.7  95   \n",
       "2925                    29.12.2019 12:00 -5.1  759.6  776.8  0.7  96   \n",
       "2926                    29.12.2019 09:00 -4.8  758.9  776.0  0.6  95   \n",
       "2927                    29.12.2019 06:00 -4.2  758.3  775.4  0.7  95   \n",
       "2928                    29.12.2019 03:00 -3.2  757.6  774.7  0.7  91   \n",
       "2929                    29.12.2019 00:00 -2.6  756.9  773.8  1.0  94   \n",
       "\n",
       "                                         DD  Ff  ff10  ff3  ...  RRR    tR  \\\n",
       "2922                 Ветер, дующий с запада   2   NaN  NaN  ...  0.5  12.0   \n",
       "2923                 Ветер, дующий с запада   1   NaN  NaN  ...  NaN   NaN   \n",
       "2924          Ветер, дующий с северо-запада   1   NaN  NaN  ...  NaN   NaN   \n",
       "2925                 Ветер, дующий с севера   2   NaN  NaN  ...  NaN   NaN   \n",
       "2926                 Ветер, дующий с севера   2   NaN  NaN  ...  0.2  12.0   \n",
       "2927                 Ветер, дующий с севера   3   NaN  NaN  ...  NaN   NaN   \n",
       "2928  Ветер, дующий с северо-северо-востока   4   NaN  NaN  ...  NaN   NaN   \n",
       "2929  Ветер, дующий с северо-северо-востока   3   NaN  NaN  ...  NaN   NaN   \n",
       "\n",
       "       E  Tg                                                 E'  sss  \\\n",
       "2922 NaN NaN                                                NaN  NaN   \n",
       "2923 NaN NaN                                                NaN  NaN   \n",
       "2924 NaN NaN                                                NaN  NaN   \n",
       "2925 NaN NaN                                                NaN  NaN   \n",
       "2926 NaN NaN  Ровный слой сухого рассыпчатого снега покрывае...    9   \n",
       "2927 NaN NaN                                                NaN  NaN   \n",
       "2928 NaN NaN                                                NaN  NaN   \n",
       "2929 NaN NaN                                                NaN  NaN   \n",
       "\n",
       "                    date day month  year  \n",
       "2922 2019-12-29 21:00:00  29    12  2019  \n",
       "2923 2019-12-29 18:00:00  29    12  2019  \n",
       "2924 2019-12-29 15:00:00  29    12  2019  \n",
       "2925 2019-12-29 12:00:00  29    12  2019  \n",
       "2926 2019-12-29 09:00:00  29    12  2019  \n",
       "2927 2019-12-29 06:00:00  29    12  2019  \n",
       "2928 2019-12-29 03:00:00  29    12  2019  \n",
       "2929 2019-12-29 00:00:00  29    12  2019  \n",
       "\n",
       "[8 rows x 33 columns]"
      ],
      "text/html": "<div>\n<style scoped>\n    .dataframe tbody tr th:only-of-type {\n        vertical-align: middle;\n    }\n\n    .dataframe tbody tr th {\n        vertical-align: top;\n    }\n\n    .dataframe thead th {\n        text-align: right;\n    }\n</style>\n<table border=\"1\" class=\"dataframe\">\n  <thead>\n    <tr style=\"text-align: right;\">\n      <th></th>\n      <th>Местное время в Витебске (аэропорт)</th>\n      <th>T</th>\n      <th>Po</th>\n      <th>P</th>\n      <th>Pa</th>\n      <th>U</th>\n      <th>DD</th>\n      <th>Ff</th>\n      <th>ff10</th>\n      <th>ff3</th>\n      <th>...</th>\n      <th>RRR</th>\n      <th>tR</th>\n      <th>E</th>\n      <th>Tg</th>\n      <th>E'</th>\n      <th>sss</th>\n      <th>date</th>\n      <th>day</th>\n      <th>month</th>\n      <th>year</th>\n    </tr>\n  </thead>\n  <tbody>\n    <tr>\n      <th>2922</th>\n      <td>29.12.2019 21:00</td>\n      <td>-5.0</td>\n      <td>758.2</td>\n      <td>775.3</td>\n      <td>-0.5</td>\n      <td>98</td>\n      <td>Ветер, дующий с запада</td>\n      <td>2</td>\n      <td>NaN</td>\n      <td>NaN</td>\n      <td>...</td>\n      <td>0.5</td>\n      <td>12.0</td>\n      <td>NaN</td>\n      <td>NaN</td>\n      <td>NaN</td>\n      <td>NaN</td>\n      <td>2019-12-29 21:00:00</td>\n      <td>29</td>\n      <td>12</td>\n      <td>2019</td>\n    </tr>\n    <tr>\n      <th>2923</th>\n      <td>29.12.2019 18:00</td>\n      <td>-5.3</td>\n      <td>758.7</td>\n      <td>775.9</td>\n      <td>-0.2</td>\n      <td>97</td>\n      <td>Ветер, дующий с запада</td>\n      <td>1</td>\n      <td>NaN</td>\n      <td>NaN</td>\n      <td>...</td>\n      <td>NaN</td>\n      <td>NaN</td>\n      <td>NaN</td>\n      <td>NaN</td>\n      <td>NaN</td>\n      <td>NaN</td>\n      <td>2019-12-29 18:00:00</td>\n      <td>29</td>\n      <td>12</td>\n      <td>2019</td>\n    </tr>\n    <tr>\n      <th>2924</th>\n      <td>29.12.2019 15:00</td>\n      <td>-5.4</td>\n      <td>758.9</td>\n      <td>776.1</td>\n      <td>-0.7</td>\n      <td>95</td>\n      <td>Ветер, дующий с северо-запада</td>\n      <td>1</td>\n      <td>NaN</td>\n      <td>NaN</td>\n      <td>...</td>\n      <td>NaN</td>\n      <td>NaN</td>\n      <td>NaN</td>\n      <td>NaN</td>\n      <td>NaN</td>\n      <td>NaN</td>\n      <td>2019-12-29 15:00:00</td>\n      <td>29</td>\n      <td>12</td>\n      <td>2019</td>\n    </tr>\n    <tr>\n      <th>2925</th>\n      <td>29.12.2019 12:00</td>\n      <td>-5.1</td>\n      <td>759.6</td>\n      <td>776.8</td>\n      <td>0.7</td>\n      <td>96</td>\n      <td>Ветер, дующий с севера</td>\n      <td>2</td>\n      <td>NaN</td>\n      <td>NaN</td>\n      <td>...</td>\n      <td>NaN</td>\n      <td>NaN</td>\n      <td>NaN</td>\n      <td>NaN</td>\n      <td>NaN</td>\n      <td>NaN</td>\n      <td>2019-12-29 12:00:00</td>\n      <td>29</td>\n      <td>12</td>\n      <td>2019</td>\n    </tr>\n    <tr>\n      <th>2926</th>\n      <td>29.12.2019 09:00</td>\n      <td>-4.8</td>\n      <td>758.9</td>\n      <td>776.0</td>\n      <td>0.6</td>\n      <td>95</td>\n      <td>Ветер, дующий с севера</td>\n      <td>2</td>\n      <td>NaN</td>\n      <td>NaN</td>\n      <td>...</td>\n      <td>0.2</td>\n      <td>12.0</td>\n      <td>NaN</td>\n      <td>NaN</td>\n      <td>Ровный слой сухого рассыпчатого снега покрывае...</td>\n      <td>9</td>\n      <td>2019-12-29 09:00:00</td>\n      <td>29</td>\n      <td>12</td>\n      <td>2019</td>\n    </tr>\n    <tr>\n      <th>2927</th>\n      <td>29.12.2019 06:00</td>\n      <td>-4.2</td>\n      <td>758.3</td>\n      <td>775.4</td>\n      <td>0.7</td>\n      <td>95</td>\n      <td>Ветер, дующий с севера</td>\n      <td>3</td>\n      <td>NaN</td>\n      <td>NaN</td>\n      <td>...</td>\n      <td>NaN</td>\n      <td>NaN</td>\n      <td>NaN</td>\n      <td>NaN</td>\n      <td>NaN</td>\n      <td>NaN</td>\n      <td>2019-12-29 06:00:00</td>\n      <td>29</td>\n      <td>12</td>\n      <td>2019</td>\n    </tr>\n    <tr>\n      <th>2928</th>\n      <td>29.12.2019 03:00</td>\n      <td>-3.2</td>\n      <td>757.6</td>\n      <td>774.7</td>\n      <td>0.7</td>\n      <td>91</td>\n      <td>Ветер, дующий с северо-северо-востока</td>\n      <td>4</td>\n      <td>NaN</td>\n      <td>NaN</td>\n      <td>...</td>\n      <td>NaN</td>\n      <td>NaN</td>\n      <td>NaN</td>\n      <td>NaN</td>\n      <td>NaN</td>\n      <td>NaN</td>\n      <td>2019-12-29 03:00:00</td>\n      <td>29</td>\n      <td>12</td>\n      <td>2019</td>\n    </tr>\n    <tr>\n      <th>2929</th>\n      <td>29.12.2019 00:00</td>\n      <td>-2.6</td>\n      <td>756.9</td>\n      <td>773.8</td>\n      <td>1.0</td>\n      <td>94</td>\n      <td>Ветер, дующий с северо-северо-востока</td>\n      <td>3</td>\n      <td>NaN</td>\n      <td>NaN</td>\n      <td>...</td>\n      <td>NaN</td>\n      <td>NaN</td>\n      <td>NaN</td>\n      <td>NaN</td>\n      <td>NaN</td>\n      <td>NaN</td>\n      <td>2019-12-29 00:00:00</td>\n      <td>29</td>\n      <td>12</td>\n      <td>2019</td>\n    </tr>\n  </tbody>\n</table>\n<p>8 rows × 33 columns</p>\n</div>"
     },
     "metadata": {},
     "execution_count": 18
    }
   ],
   "source": [
    "weather[(weather.day==29) & (weather.month==12) & (weather.year==2019)]"
   ]
  },
  {
   "cell_type": "code",
   "execution_count": 19,
   "metadata": {},
   "outputs": [
    {
     "output_type": "execute_result",
     "data": {
      "text/plain": [
       "0        Дождь замерзающий слабый.  Диаметр отложения п...\n",
       "1                               Дождь замерзающий слабый. \n",
       "2        Дождь замерзающий слабый.  Диаметр отложения п...\n",
       "3                   Состояние неба в общем не изменилось. \n",
       "4        Замерзающая морось или замерзающий дождь нелив...\n",
       "                               ...                        \n",
       "17506    Туман или ледяной туман, неба не видно, началс...\n",
       "17507    Туман или ледяной туман, неба не видно, без за...\n",
       "17508    Туман или ледяной туман, неба не видно, без за...\n",
       "17509    Морось замерзающая слабая.  Диаметр отложения ...\n",
       "17510    Морось замерзающая слабая.  Диаметр отложения ...\n",
       "Name: WW, Length: 17511, dtype: object"
      ]
     },
     "metadata": {},
     "execution_count": 19
    }
   ],
   "source": [
    "weather.WW"
   ]
  },
  {
   "cell_type": "code",
   "execution_count": 20,
   "metadata": {},
   "outputs": [
    {
     "output_type": "execute_result",
     "data": {
      "text/plain": [
       "'Умеренный или сильный дождь в срок наблюдения. Гроза в течение последнего часа, но не в срок наблюдения. '"
      ]
     },
     "metadata": {},
     "execution_count": 20
    }
   ],
   "source": [
    "weather.WW.max()   # самое длинное"
   ]
  },
  {
   "cell_type": "code",
   "execution_count": 21,
   "metadata": {},
   "outputs": [
    {
     "output_type": "execute_result",
     "data": {
      "text/plain": [
       "[' ',\n",
       " 'Дымка. ',\n",
       " 'Состояние неба в общем не изменилось. ',\n",
       " 'Снег непрерывный слабый в срок наблюдения. ',\n",
       " 'Дождь незамерзающий непрерывный слабый в срок наблюдения. ',\n",
       " 'Ливневый(ые) дождь(и). ',\n",
       " 'Ливневый(ые) дождь(и) слабый(ые) в срок наблюдения или за последний час. ',\n",
       " 'Снег неливневый. ',\n",
       " 'Дождь (незамерзающий) неливневый. ',\n",
       " 'Снег с перерывами слабый в срок наблюдения. ']"
      ]
     },
     "metadata": {},
     "execution_count": 21
    }
   ],
   "source": [
    "n = 10\n",
    "weather['WW'].value_counts()[:n].index.tolist()   # 10 самых часто повторяющихся без количества повторений"
   ]
  },
  {
   "cell_type": "code",
   "execution_count": 22,
   "metadata": {},
   "outputs": [
    {
     "output_type": "execute_result",
     "data": {
      "text/plain": [
       "9274"
      ]
     },
     "metadata": {},
     "execution_count": 22
    }
   ],
   "source": [
    "weather['WW'].value_counts().max()"
   ]
  },
  {
   "cell_type": "code",
   "execution_count": 23,
   "metadata": {},
   "outputs": [
    {
     "output_type": "execute_result",
     "data": {
      "text/plain": [
       "                                               9274\n",
       "Дымка.                                         1962\n",
       "Состояние неба в общем не изменилось.          1672\n",
       "Снег непрерывный слабый в срок наблюдения.      633\n",
       "Name: WW, dtype: int64"
      ]
     },
     "metadata": {},
     "execution_count": 23
    }
   ],
   "source": [
    "weather['WW'].value_counts()[:4]   # 3 самых частых повторения и сколько\n"
   ]
  },
  {
   "cell_type": "code",
   "execution_count": 24,
   "metadata": {},
   "outputs": [
    {
     "output_type": "execute_result",
     "data": {
      "text/plain": [
       "                                                                                                                                 9274\n",
       "Дымка.                                                                                                                           1962\n",
       "Состояние неба в общем не изменилось.                                                                                            1672\n",
       "Снег непрерывный слабый в срок наблюдения.                                                                                        633\n",
       "Дождь незамерзающий непрерывный слабый в срок наблюдения.                                                                         594\n",
       "                                                                                                                                 ... \n",
       "Снег неливневый.  Диаметр отложения мокрого снега составляет 3 мм.                                                                  1\n",
       "Ливневый град, или дождь и град.  Максимальный диаметр градин составляет 6 мм.                                                      1\n",
       "Ливневый снег умеренный или сильный в срок наблюдения или за последний час.  Диаметр отложения мокрого снега составляет 6 мм.       1\n",
       "Туман или ледяной туман.  Диаметр отложения мокрого снега составляет 10 мм.                                                         1\n",
       "Снег непрерывный слабый в срок наблюдения.  Диаметр отложения мокрого снега составляет 10 мм.                                       1\n",
       "Name: WW, Length: 176, dtype: int64"
      ]
     },
     "metadata": {},
     "execution_count": 24
    }
   ],
   "source": [
    "weather['WW'].value_counts() # сколько повторений каждого в колонке"
   ]
  },
  {
   "cell_type": "code",
   "execution_count": 32,
   "metadata": {},
   "outputs": [
    {
     "output_type": "execute_result",
     "data": {
      "text/plain": [
       "7.458682842287694"
      ]
     },
     "metadata": {},
     "execution_count": 32
    }
   ],
   "source": [
    "# средняя тепература при ветре DD == штиль, безветрие\n",
    "weather[(weather['DD'] == 'Штиль, безветрие')]['T'].mean()"
   ]
  },
  {
   "cell_type": "code",
   "execution_count": 26,
   "metadata": {},
   "outputs": [
    {
     "output_type": "execute_result",
     "data": {
      "text/plain": [
       "count    2885.000000\n",
       "mean        7.458683\n",
       "std         9.580859\n",
       "min       -29.500000\n",
       "25%         0.600000\n",
       "50%         9.000000\n",
       "75%        14.800000\n",
       "max        32.100000\n",
       "Name: T, dtype: float64"
      ]
     },
     "metadata": {},
     "execution_count": 26
    }
   ],
   "source": [
    "# при ветре Ff == 0\n",
    "weather[(weather[\"Ff\"] == 0)][\"T\"].describe()"
   ]
  }
 ]
}